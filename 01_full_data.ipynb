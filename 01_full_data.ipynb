{
 "cells": [
  {
   "cell_type": "markdown",
   "metadata": {},
   "source": [
    "# DO NOT TOUCH THIS!!!"
   ]
  },
  {
   "cell_type": "code",
   "execution_count": 1,
   "metadata": {
    "collapsed": true
   },
   "outputs": [],
   "source": [
    "import sys\n",
    "import pandas as pd\n",
    "import numpy as np\n",
    "from bs4 import BeautifulSoup\n",
    "import urllib\n",
    "from threading import Thread\n",
    "from queue import Queue\n",
    "import math\n",
    "import requests\n",
    "import time \n",
    "from datetime import timedelta\n",
    "import pickle"
   ]
  },
  {
   "cell_type": "code",
   "execution_count": 2,
   "metadata": {
    "collapsed": true
   },
   "outputs": [],
   "source": [
    "def buildURL(baseURL):\n",
    "    url = \"?isSearchRequest=true&vc=Car&dam=0&con=USED&ambitCountry=DE\"\n",
    "    \n",
    "    # explicitly specify categories to prevent trailers etc. from showing up\n",
    "    url += \"&categories=Cabrio\"\n",
    "    url += \"&categories=OffRoad\"\n",
    "    url += \"&categories=SmallCar\"\n",
    "    url += \"&categories=EstateCar\"\n",
    "    url += \"&categories=Limousine\"\n",
    "    url += \"&categories=SportsCar\"\n",
    "    url += \"&categories=Van\"   \n",
    "    \n",
    "    return baseURL + url"
   ]
  },
  {
   "cell_type": "code",
   "execution_count": 3,
   "metadata": {
    "collapsed": true
   },
   "outputs": [],
   "source": [
    "def buildURLParameters(mileageFrom = -1,\n",
    "                       mileageTo = -1,\n",
    "                       firstRegistrationFrom = -1,\n",
    "                       firstRegistrationTo = -1,\n",
    "                       priceFrom = -1,\n",
    "                       priceTo = -1,\n",
    "                       powerFrom = -1,\n",
    "                       powerTo = -1):\n",
    "        \n",
    "    parameters = \"\"\n",
    "    if(mileageFrom >= 0):\n",
    "        parameters += \"&minMileage=\" + repr(mileageFrom)\n",
    "    if(mileageTo >= 0):\n",
    "        parameters += \"&maxMileage=\" + repr(mileageTo)\n",
    "    if(firstRegistrationFrom >= 0):\n",
    "        parameters += \"&minFirstRegistrationDate=\" + repr(firstRegistrationFrom) + \"-01-01\"\n",
    "    if(firstRegistrationTo >= 0):\n",
    "        parameters += \"&maxFirstRegistrationDate=\" + repr(firstRegistrationTo) + \"-12-31\"\n",
    "    if(priceFrom >= 0):\n",
    "        parameters += \"&minPrice=\" + repr(priceFrom)\n",
    "    if(priceTo >= 0):\n",
    "        parameters += \"&maxPrice=\" + repr(priceTo)\n",
    "        \n",
    "    return parameters"
   ]
  },
  {
   "cell_type": "code",
   "execution_count": 4,
   "metadata": {
    "collapsed": false
   },
   "outputs": [],
   "source": [
    "relevantIDs = set()\n",
    "dropped = 0\n",
    "taskQueue = Queue(5000)"
   ]
  },
  {
   "cell_type": "code",
   "execution_count": 5,
   "metadata": {
    "collapsed": true
   },
   "outputs": [],
   "source": [
    "def getResultCount(url):\n",
    "    nResults = -1\n",
    "    while nResults == -1:\n",
    "        try:\n",
    "            response = requests.get(url)\n",
    "            json = response.json()\n",
    "            nResults = json['numResultsTotal']\n",
    "        except Exception as e:\n",
    "            # try again\n",
    "            nResults = -1\n",
    "    return nResults"
   ]
  },
  {
   "cell_type": "code",
   "execution_count": 6,
   "metadata": {
    "collapsed": true
   },
   "outputs": [],
   "source": [
    "def scrapeResultList(baseURL, nResults):\n",
    "    pageCount = int(math.ceil(nResults / 20.0))\n",
    "\n",
    "    if pageCount > 50:\n",
    "        pageCount = 50\n",
    "        \n",
    "    for i in range(pageCount):\n",
    "        try:\n",
    "            url = urllib.urlopen(baseURL + \"&pageNumber=\" + repr(i + 1))\n",
    "            url = url.read()\n",
    "            soup = BeautifulSoup(url, \"lxml\")\n",
    "            div_results = soup.find_all(\"div\", class_=\"cBox-body cBox-body--resultitem\")\n",
    "            \n",
    "            for div_result in div_results:\n",
    "                relevantIDs.add(div_result.a[\"data-ad-id\"])\n",
    "                \n",
    "            sys.stdout.write(\"\\r#IDs: \" + repr(len(relevantIDs)) + \n",
    "                             \" / #Queue: \" + repr(taskQueue.qsize()) + \n",
    "                             \" / #Dropped: \" + repr(dropped))\n",
    "        except Exception as e:\n",
    "            # try again\n",
    "            i -= 1 "
   ]
  },
  {
   "cell_type": "code",
   "execution_count": 7,
   "metadata": {
    "collapsed": true
   },
   "outputs": [],
   "source": [
    "class ResultListScraper(Thread):\n",
    "    def __init__(self, queue):\n",
    "        Thread.__init__(self)\n",
    "        self.queue = queue\n",
    "    def run(self):\n",
    "        while True:\n",
    "            try:\n",
    "                baseURL, nResults = self.queue.get()\n",
    "                scrapeResultList(baseURL, nResults)\n",
    "            except Exception as e:\n",
    "                print(e)\n",
    "            finally:\n",
    "                self.queue.task_done()"
   ]
  },
  {
   "cell_type": "code",
   "execution_count": 8,
   "metadata": {
    "collapsed": true
   },
   "outputs": [],
   "source": [
    "dropped = 0\n",
    "class TaskGenerator(Thread):\n",
    "    def __init__(self, mileageFrom, mileageTo, priceFrom, priceTo):\n",
    "        Thread.__init__(self)\n",
    "        self.mileageFrom = mileageFrom\n",
    "        self.mileageTo = mileageTo\n",
    "        self.priceFrom = priceFrom\n",
    "        self.priceTo = priceTo\n",
    "    def run(self):#1, 1501\n",
    "        for mileage in range(self.mileageFrom, self.mileageTo): # mileage between 0 and 1500000, interval 1000\n",
    "            parametersMileage = buildURLParameters(mileageFrom=(mileage-1)*1000,\n",
    "                                                   mileageTo=mileage*1000)\n",
    "            mileageSearchURL = baseSearchURL + parametersMileage\n",
    "            mileageCountURL = baseCountURL + parametersMileage\n",
    "            nResultsMileage = getResultCount(mileageCountURL)\n",
    "\n",
    "            if nResultsMileage <= 1000:\n",
    "                taskQueue.put((mileageSearchURL, nResultsMileage))\n",
    "            else:\n",
    "                for firstRegistration in range(1900, 2017): # first registration between 1900 and 2016, interval 1\n",
    "                    parametersRegistration = buildURLParameters(firstRegistrationFrom=firstRegistration,\n",
    "                                                                firstRegistrationTo=firstRegistration)\n",
    "                    registrationSearchURL = mileageSearchURL + parametersRegistration\n",
    "                    registrationCountURL = mileageCountURL + parametersRegistration\n",
    "                    nResultsRegistration = getResultCount(registrationCountURL)\n",
    "\n",
    "                    if nResultsRegistration <= 1000:\n",
    "                        taskQueue.put((registrationSearchURL, nResultsRegistration))\n",
    "                    else: #1,3001\n",
    "                        for price in range(self.priceFrom, self.priceTo): # price between 0 and 300000, interval 100\n",
    "                            parametersPrice = buildURLParameters(priceFrom=(price-1)*100,\n",
    "                                                                 priceTo=price*100)\n",
    "                            priceSearchURL = registrationSearchURL + parametersPrice\n",
    "                            priceCountURL = registrationCountURL + parametersPrice\n",
    "                            nResultsPrice = getResultCount(priceCountURL)\n",
    "\n",
    "                            taskQueue.put((priceSearchURL, nResultsPrice))\n",
    "\n",
    "                            if nResultsPrice > 1000:\n",
    "                                taskQueue.put((priceSearchURL + \"&sortOption.sortOrder=DESCENDING\", nResultsPrice))\n",
    "\n",
    "                                if nResultsPrice > 2000:\n",
    "                                    global dropped\n",
    "                                    dropped += (nResultsPrice - 2000)"
   ]
  },
  {
   "cell_type": "code",
   "execution_count": null,
   "metadata": {
    "collapsed": false
   },
   "outputs": [
    {
     "name": "stdout",
     "output_type": "stream",
     "text": [
      "Scraping started at Thu Dec  1 16:23:29 2016\n",
      "#IDs: 4184 / #Queue: 2962 / #Dropped: 0"
     ]
    }
   ],
   "source": [
    "taskQueue = Queue(20000)\n",
    "for x in range(2):\n",
    "    resultListScraper = ResultListScraper(taskQueue)\n",
    "    resultListScraper.daemon = True\n",
    "    resultListScraper.start()\n",
    "\n",
    "baseSearchURL = buildURL(\"http://suchen.mobile.de/fahrzeuge/auto\")\n",
    "baseCountURL = buildURL(\"http://suchen.mobile.de/fahrzeuge/count.json\")\n",
    "\n",
    "idScrapingStartTime = time.time()\n",
    "print(\"Scraping started at \" + time.asctime(time.gmtime(idScrapingStartTime)))\n",
    "\n",
    "taskGenerators = []\n",
    "taskGenerators.append(TaskGenerator(1, 50, 1, 1001))\n",
    "taskGenerators.append(TaskGenerator(51, 100, 1, 1001))\n",
    "taskGenerators.append(TaskGenerator(101, 850, 1, 1001))\n",
    "taskGenerators.append(TaskGenerator(851, 1501, 1, 1001))\n",
    "\n",
    "for taskGenerator in taskGenerators:\n",
    "    taskGenerator.daemon = True\n",
    "    taskGenerator.start()\n",
    "\n",
    "for taskGenerator in taskGenerators:\n",
    "    taskGenerator.join()\n",
    "        \n",
    "taskQueue.join()\n",
    "\n",
    "idScrapingEndTime = time.time()\n",
    "print(\"\\nScraping finished at \" + time.asctime(time.gmtime(idScrapingEndTime)))"
   ]
  },
  {
   "cell_type": "code",
   "execution_count": null,
   "metadata": {
    "collapsed": false
   },
   "outputs": [],
   "source": [
    "print \"Current baseline count: \" + repr(getResultCount(baseCountURL))\n",
    "print \"Relevant ID count: \" + repr(len(relevantIDs))\n",
    "print \"Start time: \" + time.asctime(time.gmtime(idScrapingStartTime))\n",
    "print \"End time: \" + time.asctime(time.gmtime(idScrapingEndTime))\n",
    "print \"Duration: \" + str(timedelta(seconds=(idScrapingEndTime-idScrapingStartTime)))"
   ]
  },
  {
   "cell_type": "code",
   "execution_count": null,
   "metadata": {
    "collapsed": true
   },
   "outputs": [],
   "source": [
    "relevantIDfile = open('relevantIDs.pckl', 'w')\n",
    "pickle.dump(relevantIDs, relevantIDfile)"
   ]
  },
  {
   "cell_type": "code",
   "execution_count": null,
   "metadata": {
    "collapsed": true
   },
   "outputs": [],
   "source": [
    "def extractValue(tag):\n",
    "    if(len(tag) <= 0):\n",
    "        return np.nan\n",
    "    return tag[0].stripped_strings.next()"
   ]
  },
  {
   "cell_type": "code",
   "execution_count": null,
   "metadata": {
    "collapsed": true
   },
   "outputs": [],
   "source": [
    "def extractInformation(resultID):\n",
    "    success = False    \n",
    "    while not success:\n",
    "        try:\n",
    "            url = urllib.urlopen(\"http://suchen.mobile.de/fahrzeuge/details.html?id=\" + str(resultID))\n",
    "            url = url.read()\n",
    "            success = True\n",
    "        except Exception as e:\n",
    "            print \"\\nException opening http://suchen.mobile.de/fahrzeuge/details.html?id=\" + str(resultID) + \", retrying.\"\n",
    "            success = False\n",
    "            \n",
    "    soup = BeautifulSoup(url, \"lxml\")\n",
    "    \n",
    "    # ID does not exist (yet / any longer)\n",
    "    if len(soup.find_all(\"div\", class_=\"cBox-body cBox-body--notification-error\")) > 0:\n",
    "        return None\n",
    "    \n",
    "    mileage = extractValue(soup.select(\"#rbt-mileage-v\"))\n",
    "    power = extractValue(soup.select(\"#rbt-power-v\"))\n",
    "    fuel = extractValue(soup.select(\"#rbt-fuel-v\"))\n",
    "    transmission = extractValue(soup.select(\"#rbt-transmission-v\"))\n",
    "    firstRegistration = extractValue(soup.select(\"#rbt-firstRegistration-v\"))\n",
    "    price = extractValue(soup.select(\"span.h3.rbt-prime-price\"))\n",
    "    \n",
    "    return [resultID, mileage, power, fuel, transmission, firstRegistration, price]"
   ]
  },
  {
   "cell_type": "code",
   "execution_count": null,
   "metadata": {
    "collapsed": true
   },
   "outputs": [],
   "source": [
    "relevantIDsList = list(relevantIDs) # just for output\n",
    "relevantIDCount = len(relevantIDsList)\n",
    "testData = []"
   ]
  },
  {
   "cell_type": "code",
   "execution_count": null,
   "metadata": {
    "collapsed": true
   },
   "outputs": [],
   "source": [
    "class ResultScraper(Thread):\n",
    "    def __init__(self, queue):\n",
    "        Thread.__init__(self)\n",
    "        self.queue = queue\n",
    "    def run(self):\n",
    "        while True:\n",
    "            try:\n",
    "                resultID = self.queue.get()\n",
    "                testData.append(extractInformation(resultID))\n",
    "            except Exception as e:\n",
    "                print(e)\n",
    "            finally:\n",
    "                self.queue.task_done()"
   ]
  },
  {
   "cell_type": "code",
   "execution_count": null,
   "metadata": {
    "collapsed": true
   },
   "outputs": [],
   "source": [
    "taskQueue = Queue(500)\n",
    "for x in range(3):\n",
    "    worker = ResultScraper(taskQueue)\n",
    "    worker.daemon = True\n",
    "    worker.start()\n",
    "\n",
    "resultScrapingStartTime = time.time()\n",
    "    \n",
    "for i in range(len(relevantIDsList)):\n",
    "    sys.stdout.write(\"\\rQueueing \" + relevantIDsList[i] + \n",
    "                     \" (\" + repr((i+1)) + \n",
    "                     \" / \" + repr(relevantIDCount) + \n",
    "                     \", \" + repr(((i + 1.0) / relevantIDCount) * 100) + \"%)\")\n",
    "    taskQueue.put(relevantIDsList[i])\n",
    "    \n",
    "taskQueue.join()\n",
    "resultScrapingEndTime = time.time()"
   ]
  },
  {
   "cell_type": "code",
   "execution_count": null,
   "metadata": {
    "collapsed": true
   },
   "outputs": [],
   "source": []
  }
 ],
 "metadata": {
  "kernelspec": {
   "display_name": "Python 2",
   "language": "python",
   "name": "python2"
  },
  "language_info": {
   "codemirror_mode": {
    "name": "ipython",
    "version": 2
   },
   "file_extension": ".py",
   "mimetype": "text/x-python",
   "name": "python",
   "nbconvert_exporter": "python",
   "pygments_lexer": "ipython2",
   "version": "2.7.9"
  }
 },
 "nbformat": 4,
 "nbformat_minor": 0
}
