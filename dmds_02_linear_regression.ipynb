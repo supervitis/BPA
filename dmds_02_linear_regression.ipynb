{
 "cells": [
  {
   "cell_type": "markdown",
   "metadata": {},
   "source": [
    "# Session 2\n"
   ]
  },
  {
   "cell_type": "code",
   "execution_count": 6,
   "metadata": {
    "collapsed": true
   },
   "outputs": [],
   "source": [
    "import pandas as pd\n",
    "import statsmodels.api as sm\n",
    "np.set_printoptions(precision=4)"
   ]
  },
  {
   "cell_type": "markdown",
   "metadata": {},
   "source": [
    "### Advertising Sales Data\n",
    "\n",
    "In this session, we will use the advertising sales data that is provided by one of the authors of the book [Introduction to Statsitical Learning](http://www-bcf.usc.edu/~gareth/ISL). Since the data is available as a CSV, wen can simply import the data set by using the corresponding Pandas builder function."
   ]
  },
  {
   "cell_type": "code",
   "execution_count": 7,
   "metadata": {
    "collapsed": false
   },
   "outputs": [
    {
     "data": {
      "text/html": [
       "<div>\n",
       "<table border=\"1\" class=\"dataframe\">\n",
       "  <thead>\n",
       "    <tr style=\"text-align: right;\">\n",
       "      <th></th>\n",
       "      <th>TV</th>\n",
       "      <th>Radio</th>\n",
       "      <th>Newspaper</th>\n",
       "      <th>Sales</th>\n",
       "    </tr>\n",
       "  </thead>\n",
       "  <tbody>\n",
       "    <tr>\n",
       "      <th>1</th>\n",
       "      <td>230.10</td>\n",
       "      <td>37.80</td>\n",
       "      <td>69.20</td>\n",
       "      <td>22.10</td>\n",
       "    </tr>\n",
       "    <tr>\n",
       "      <th>2</th>\n",
       "      <td>44.50</td>\n",
       "      <td>39.30</td>\n",
       "      <td>45.10</td>\n",
       "      <td>10.40</td>\n",
       "    </tr>\n",
       "    <tr>\n",
       "      <th>3</th>\n",
       "      <td>17.20</td>\n",
       "      <td>45.90</td>\n",
       "      <td>69.30</td>\n",
       "      <td>9.30</td>\n",
       "    </tr>\n",
       "    <tr>\n",
       "      <th>4</th>\n",
       "      <td>151.50</td>\n",
       "      <td>41.30</td>\n",
       "      <td>58.50</td>\n",
       "      <td>18.50</td>\n",
       "    </tr>\n",
       "    <tr>\n",
       "      <th>5</th>\n",
       "      <td>180.80</td>\n",
       "      <td>10.80</td>\n",
       "      <td>58.40</td>\n",
       "      <td>12.90</td>\n",
       "    </tr>\n",
       "  </tbody>\n",
       "</table>\n",
       "</div>"
      ],
      "text/plain": [
       "      TV  Radio  Newspaper  Sales\n",
       "1 230.10  37.80      69.20  22.10\n",
       "2  44.50  39.30      45.10  10.40\n",
       "3  17.20  45.90      69.30   9.30\n",
       "4 151.50  41.30      58.50  18.50\n",
       "5 180.80  10.80      58.40  12.90"
      ]
     },
     "execution_count": 7,
     "metadata": {},
     "output_type": "execute_result"
    }
   ],
   "source": [
    "df = pd.read_csv('http://www-bcf.usc.edu/~gareth/ISL/Advertising.csv', index_col=0)\n",
    "df.head()"
   ]
  },
  {
   "cell_type": "markdown",
   "metadata": {},
   "source": [
    "### Side topic: Matplotlib\n",
    "\n",
    "Pandas provides many convenience features for plotting. Yet, quite often, we would like to customize our plots, and cannot find an appropriate knob to turn. Pandas plotting is based on a library called [Matplotlib](http://matplotlib.org/index.html) which allows to produce 'production-quality figures'. Whenever we would like to customize our figures more than it is allowed by Pandas, we simply take the Matplotlib object that is used by Pandas' plotting and then configure the plot to our needs.\n",
    "\n",
    "Here is an example of placing two scatter plots in a (1x2)-grid to display them horizontally in addition to setting a few parameters. The method *show()* avoids that the *to_string()* method for the last line is executed, so that only the plots are shown."
   ]
  },
  {
   "cell_type": "code",
   "execution_count": 8,
   "metadata": {
    "collapsed": false
   },
   "outputs": [
    {
     "name": "stderr",
     "output_type": "stream",
     "text": [
      "/usr/local/lib/python2.7/dist-packages/matplotlib/collections.py:590: FutureWarning: elementwise comparison failed; returning scalar instead, but in the future will perform elementwise comparison\n",
      "  if self._edgecolors == str('face'):\n"
     ]
    },
    {
     "data": {
      "image/png": "[encoded data removed]",
      "text/plain": [
       "<matplotlib.figure.Figure at 0x7f2737c17250>"
      ]
     },
     "metadata": {},
     "output_type": "display_data"
    }
   ],
   "source": [
    "fix, (ax1,ax2) = plt.subplots(1,2, figsize=(12,4))\n",
    "df.plot(kind='scatter', x='TV', y='Sales', ax=ax1, xlim=[0,300], s=5)\n",
    "df.plot(kind='scatter', x='Radio', y='Sales', ax=ax2, s=20, color='red')\n",
    "ax2.set_xlim(0,50)\n",
    "plt.show()"
   ]
  },
  {
   "cell_type": "markdown",
   "metadata": {},
   "source": [
    "## Linear Regression\n",
    "\n",
    "We would now like to fit a linear model to predict sales based on predictors 'TV', 'Radio', and 'Newspaper'. This requires us to determine a measure fore the quality of a fit and how to use this measure to search for model parameters. \n",
    "\n",
    "### Least Mean Squares\n",
    "\n",
    "Denote $y_i$, $x_i=(x_{i1},...,x_{ip})$ as the $i$-th vector of predictors and their (observed) response, with $i \\in \\{1,...,n \\}$, and $b=(b_1,\\dots,b_p)$ as vector of model parameters.\n",
    "\n",
    "Given an observation $x_i$, the corresponding prediction is \n",
    "\n",
    "$$\\hat{y_i} = b' x_i$$\n",
    "\n",
    "Unless prediction is perfect, we measure the quality of the fit, or the error, as the squared difference between prediction and response, $(y_i - b' x_i)^2$.\n",
    "\n",
    "With $Q \\to b$ as the mean of squared differences, the objective is to select parameters $b$, such $Q(b)$ is minimized. \n",
    "\n",
    "$$Q(b) = \\frac{1}{n}\\sum_{i=1}^{n} \\frac{1}{2} (y_i - b' x_i)^2$$\n",
    "\n",
    "A possible solution is based on gradient descent. For this, we must first obtain the partial derivatives with respect to $b_j \\in \\{b_1,\\dots,b_p \\}$,\n",
    "\n",
    "$$\\begin{align}\\frac{\\partial Q(b)}{\\partial b_j} &=  \\frac{1}{n} \\sum_{i=1}^{n} 2 \\frac{1}{2}(y_i - b_j x_{ij})\\frac{\\partial }{\\partial b_j} (y_i - b_j x_{ij})  \\\\&=  \\frac{1}{n} \\sum_{i=1}^{n} -(y_i - b_j x_{ij})x_{ij} \\\\&= \\frac{1}{n} \\sum_{i=1}^{n} (b_j x_{ij}-y_i)x_{ij}\\end{align}$$\n",
    "\n",
    "Instead of computing the point where all partial derivatives are jointly zero, we can compute the partial derivatives for a given $b$, which gives us the gradient of function $Q$ at this point,\n",
    "\n",
    "$$\\nabla Q(b) = -\\left(\\frac{\\partial Q(b)}{\\partial b_1},\\dots,\\frac{\\partial Q(b)}{\\partial b_p}\\right)$$\n",
    "\n",
    "The gradient provides us with the direction of steepest descent towards an optimal vector of parameters. "
   ]
  },
  {
   "cell_type": "markdown",
   "metadata": {},
   "source": [
    "### Sales Advertising Model\n",
    "\n",
    "Our basic sales advertising model assumes a linear relationship between sales and investments in TV and radio ads:\n",
    "    \n",
    "$$\\text{sales} = b_0 + b_1 \\times \\text{TV} +  b_2 \\times \\text{radio}$$\n",
    "\n",
    "This leads us to the following linear model:\n",
    "\n",
    "$$y_i = b_0 + b_1 \\times x_{i1} +  b_2 x_{i2} = y,\\ i=1,...,n$$\n",
    "\n",
    "#### Data preparation\n",
    "The column 'Sales' from our DataFrame define the response vector $y$ and the columns 'TV' and 'Radio' define the predictor matrix $X$. For our algorithm, we additionally need a column of ones as the column of the matrix $X$ that is associated with $b_0$."
   ]
  },
  {
   "cell_type": "code",
   "execution_count": 9,
   "metadata": {
    "collapsed": false
   },
   "outputs": [
    {
     "data": {
      "text/html": [
       "<div>\n",
       "<table border=\"1\" class=\"dataframe\">\n",
       "  <thead>\n",
       "    <tr style=\"text-align: right;\">\n",
       "      <th></th>\n",
       "      <th>TV</th>\n",
       "      <th>Radio</th>\n",
       "      <th>Ones</th>\n",
       "    </tr>\n",
       "  </thead>\n",
       "  <tbody>\n",
       "    <tr>\n",
       "      <th>1</th>\n",
       "      <td>230.10</td>\n",
       "      <td>37.80</td>\n",
       "      <td>1.00</td>\n",
       "    </tr>\n",
       "    <tr>\n",
       "      <th>2</th>\n",
       "      <td>44.50</td>\n",
       "      <td>39.30</td>\n",
       "      <td>1.00</td>\n",
       "    </tr>\n",
       "    <tr>\n",
       "      <th>3</th>\n",
       "      <td>17.20</td>\n",
       "      <td>45.90</td>\n",
       "      <td>1.00</td>\n",
       "    </tr>\n",
       "    <tr>\n",
       "      <th>4</th>\n",
       "      <td>151.50</td>\n",
       "      <td>41.30</td>\n",
       "      <td>1.00</td>\n",
       "    </tr>\n",
       "    <tr>\n",
       "      <th>5</th>\n",
       "      <td>180.80</td>\n",
       "      <td>10.80</td>\n",
       "      <td>1.00</td>\n",
       "    </tr>\n",
       "  </tbody>\n",
       "</table>\n",
       "</div>"
      ],
      "text/plain": [
       "      TV  Radio  Ones\n",
       "1 230.10  37.80  1.00\n",
       "2  44.50  39.30  1.00\n",
       "3  17.20  45.90  1.00\n",
       "4 151.50  41.30  1.00\n",
       "5 180.80  10.80  1.00"
      ]
     },
     "execution_count": 9,
     "metadata": {},
     "output_type": "execute_result"
    }
   ],
   "source": [
    "y = df.Sales\n",
    "X = df[['TV','Radio']].copy()\n",
    "X['Ones'] = np.ones(len(df))\n",
    "X.head()"
   ]
  },
  {
   "cell_type": "markdown",
   "metadata": {},
   "source": [
    "For easier indexing, let us use the underlying numpy arrays instead of working with the slices from the DataFrame."
   ]
  },
  {
   "cell_type": "code",
   "execution_count": 10,
   "metadata": {
    "collapsed": false
   },
   "outputs": [],
   "source": [
    "y = y.values\n",
    "X = X.values"
   ]
  },
  {
   "cell_type": "markdown",
   "metadata": {},
   "source": [
    "### Batch Gradient Decent\n",
    "\n",
    "Since the elements of the gradient are a function of $b$, we must select an initial point $b_0$ to obtain a gradient with constant elements. This gradient points in the direction of steepest descent at the given point $b_0$. We can therefore use this gradient to select a new point $b_1$ that is closer to the optimum than $b_0$. If we do this iteratively, we will obtain a sequence of $b$'s which will get closer and closer to the optimum.\n",
    "\n",
    "A problem with gradient descent is that, as we approach the optimum the gradient may point towards the optimal $b$, but its length is larger than the step that needs to be take to get to $b^*$. We therefore work our way towards the optimum in smaller steps. The size of these steps, $\\alpha$, also referred to as stepsize, is an important parameter in the gradient descent method, and subject to a lot of research.\n",
    "\n",
    "1. Choose initial guess $\\hat{b}_0$, stepsize $\\alpha$ \n",
    "2. <b>for</b> k = 0, 1, 2, ... <b>do</b>\n",
    "3. &nbsp;&nbsp;&nbsp;&nbsp;&nbsp; $\\nabla Q_k(b_k) = -\\frac{1}{n} \\sum_{i=1}^{n}(\\hat{b}_k' x_i - y_i)x_i$\n",
    "4. &nbsp;&nbsp;&nbsp;&nbsp;&nbsp; $\\hat{b}_{k+1} = \\hat{b}_k + \\alpha \\nabla Q_k(b_k)$ \n",
    "\n",
    "For our sales advertising model, we select $b_0=(0,0,0)$ and $\\alpha=0.00001$ and compute a sequence of 100 $b$'s, after which the algorithm has hopefully converged towards a near-optimal solution."
   ]
  },
  {
   "cell_type": "code",
   "execution_count": 11,
   "metadata": {
    "collapsed": false
   },
   "outputs": [],
   "source": [
    "b = np.zeros(3)\n",
    "alpha = 0.00005\n",
    "n = len(df)\n",
    "for j in range(100):\n",
    "    grad = np.zeros(3)\n",
    "    for i in range(n):\n",
    "        grad += (y[i]-b.dot(X[i]))*-X[i]/n\n",
    "    b = b - alpha*grad"
   ]
  },
  {
   "cell_type": "markdown",
   "metadata": {},
   "source": [
    "Let us now compute the mean of the (residual) sum of squares (also known as the mean squared error or MSE), the $R^2$, as well as the vector of parameters."
   ]
  },
  {
   "cell_type": "code",
   "execution_count": 12,
   "metadata": {
    "collapsed": false
   },
   "outputs": [
    {
     "data": {
      "text/plain": [
       "(4.7591935940908296, 0.82429156688411653, array([ 0.0599,  0.1939,  0.0057]))"
      ]
     },
     "execution_count": 12,
     "metadata": {},
     "output_type": "execute_result"
    }
   ],
   "source": [
    "rss =  sum((y[i]-b.dot(X[i]))**2 for i in range(n))\n",
    "tss = sum((y[i]-y.mean())**2 for i in range(n))\n",
    "r_squared = 1.-rss/tss\n",
    "mse = rss/n\n",
    "mse, r_squared, b"
   ]
  },
  {
   "cell_type": "markdown",
   "metadata": {},
   "source": [
    "### Stochastic Gradient Descent\n",
    "\n",
    "We compute the partial derivative by collecting the slopes associated with each observation $x_i$. An alternative to taking the sum is to keep updating the gradient while collecting these terms. If we additionally randomize the sequence in which we collect the terms, we arrive at an algorithm referred to as stochastic gradient decent.\n",
    "\n",
    "Instead of computing the full gradient, we update the gradient after having obtained the fraction of the slope that corresponds to a randomly drawn observation $x_i$.\n",
    "\n",
    "1. Choose initial guess $\\hat{b}_0$, stepsize $\\alpha$ \n",
    "2. <b>for</b> k = 0, 1, 2, ... <b>do</b>\n",
    "3. &nbsp;&nbsp;&nbsp;&nbsp;&nbsp; Draw randomly $i \\sim U(1,n)$\n",
    "4. &nbsp;&nbsp;&nbsp;&nbsp;&nbsp; $\\nabla Q_k = - (\\hat{b}_k' x_i - y_i)x_i$\n",
    "5. &nbsp;&nbsp;&nbsp;&nbsp;&nbsp; $\\hat{b}_{k+1} = \\hat{b}_k + \\alpha \\nabla Q_k$\n",
    "\n",
    "For our implementation, we now replace the inner loop and instead compute the gradient for only one observation. The index of that observation is draw uniformly from the range $[0,n]$.\n",
    "\n",
    "Let us also select a vector of stepsizes $\\alpha=(0.00001,0.0001,0.05)$. Since parameters are associated with  features of different magintudes, better results can be obtained by selecting parameter-specific stepsizes."
   ]
  },
  {
   "cell_type": "code",
   "execution_count": 13,
   "metadata": {
    "collapsed": false
   },
   "outputs": [],
   "source": [
    "import random\n",
    "b = np.zeros(3)\n",
    "alpha = [0.00001,0.0001,0.05]\n",
    "n = len(df)\n",
    "for j in range(100):\n",
    "    i = random.randint(0,n-1)\n",
    "    grad = (y[i]-b.dot(X[i]))*-X[i]\n",
    "    b = b - alpha*grad  "
   ]
  },
  {
   "cell_type": "markdown",
   "metadata": {},
   "source": [
    "Let us again look at MSE, $R^2$ and vector $b$."
   ]
  },
  {
   "cell_type": "code",
   "execution_count": 14,
   "metadata": {
    "collapsed": false
   },
   "outputs": [
    {
     "name": "stdout",
     "output_type": "stream",
     "text": [
      "568.641881605 5417.14875 2.84320940803 0.895029302711 19.0730618666 [ 0.0448  0.1871  2.8509]\n"
     ]
    }
   ],
   "source": [
    "rss =  sum((y[i]-b.dot(X[i]))**2 for i in range(n))\n",
    "tss = sum((y[i]-y.mean())**2 for i in range(n))\n",
    "r_squared = 1.-rss/tss\n",
    "mse = rss/n\n",
    "print rss, tss, mse, r_squared, b.dot(X[i]), b"
   ]
  },
  {
   "cell_type": "markdown",
   "metadata": {},
   "source": [
    "As we can see the stochastic version of the algorithm can obtain a higher quality solution with less work. In this case, this is due to the different choice of stepsizes, which highlights its importance for this class of algorithms."
   ]
  },
  {
   "cell_type": "markdown",
   "metadata": {},
   "source": [
    "### AdaGrad\n",
    "\n",
    "Sicne gradient descent is highly dependent on the selected stepsize, it should ideally  be chosen for each dimension separately. There are numerous approaches to select stepsizes, one of which is AdaGrad.\n",
    "\n",
    "AdaGrad is a simple extension of stochastic gradient descent to select a stepsize based on the magnitude of the gradient in each dimension.\n",
    "\n",
    "In addition to computing the gradient, AdaGrad stores the sum of squared gradients. With $G= \\nabla Q(b)$, we define the sum of previous squared gradients\n",
    "as \n",
    "\n",
    "$$G_k=\\left(\\sum_{j=0}^k \\nabla Q(b)_{1j}^2,...,\\sum_{j=0}^k\\nabla Q(b)_{1j}^2\\right)$$\n",
    "\n",
    "The stepsize now becomes the root of the sum of previous squared gradients:\n",
    "\n",
    "$$\\alpha_k=\\left(\\sqrt{G_{k1}},...,\\sqrt{G_{kp}}\\right)$$\n",
    "\n",
    "The stochastic gradient descent algorithm using AdaGrad then becomes,\n",
    "\n",
    "1. Choose initial guess $\\hat{b}_0$, $G_0=0$ \n",
    "2. <b>for</b> k = 0, 1, 2, ... <b>do</b>\n",
    "3. &nbsp;&nbsp;&nbsp;&nbsp;&nbsp; Draw randomly $i \\sim U(1,n)$\n",
    "4. &nbsp;&nbsp;&nbsp;&nbsp;&nbsp; $\\nabla Q_k = - (\\hat{b}_k' x_i - y_i)x_i$\n",
    "4. &nbsp;&nbsp;&nbsp;&nbsp;&nbsp; $G_{k+1} = G_k+((\\hat{b}_k' x_i - y_i)x_i)**2$\n",
    "5. &nbsp;&nbsp;&nbsp;&nbsp;&nbsp; $\\hat{b}_{k+1} = \\hat{b}_k + \\frac{1}{\\sqrt{G_{k+1}}} \\nabla Q_k$\n",
    "\n",
    "This algorithm is extremely easy to implement, it is theoretically sound and has been proven quite successful empirically."
   ]
  },
  {
   "cell_type": "markdown",
   "metadata": {},
   "source": [
    "### Optimal Solution\n",
    "\n",
    "As mentioned above, the optimal vector $b^*$ can be obtained analytically by setting the partial derivatives jointly to zero, which entails solution of a system of equations, and as such requires matrix inversion. The method is typically referred to as ordinary least squares or OLS.\n",
    "\n",
    "Let us skip the mathematical derivation of OLS and briefly present the OLS solution using a library called [Statsmodels](http://statsmodels.sourceforge.net). Statsmodels brings classic statistical analysis to Python. Running a simple regression on our model is quite simply, as Statsmodels gets along well with Pandas."
   ]
  },
  {
   "cell_type": "code",
   "execution_count": null,
   "metadata": {
    "collapsed": true
   },
   "outputs": [],
   "source": [
    "X = df[['TV','Radio']]\n",
    "X = sm.add_constant(X)\n",
    "reg = sm.OLS(y,X).fit()"
   ]
  },
  {
   "cell_type": "markdown",
   "metadata": {},
   "source": [
    "Let us look at a summary of the result of the regression which shows us a number of quality of fit measures, information critera, test statistics, as well as the parameters themselves.\n",
    "\n",
    "Comparing the $R^2$ with the one from above, we can see that with the right step size, our gradient descent algorithm is near optimal, with much less work."
   ]
  },
  {
   "cell_type": "code",
   "execution_count": 146,
   "metadata": {
    "collapsed": false
   },
   "outputs": [
    {
     "data": {
      "text/html": [
       "<table class=\"simpletable\">\n",
       "<caption>OLS Regression Results</caption>\n",
       "<tr>\n",
       "  <th>Dep. Variable:</th>            <td>y</td>        <th>  R-squared:         </th> <td>   0.897</td>\n",
       "</tr>\n",
       "<tr>\n",
       "  <th>Model:</th>                   <td>OLS</td>       <th>  Adj. R-squared:    </th> <td>   0.896</td>\n",
       "</tr>\n",
       "<tr>\n",
       "  <th>Method:</th>             <td>Least Squares</td>  <th>  F-statistic:       </th> <td>   859.6</td>\n",
       "</tr>\n",
       "<tr>\n",
       "  <th>Date:</th>             <td>Wed, 12 Oct 2016</td> <th>  Prob (F-statistic):</th> <td>4.83e-98</td>\n",
       "</tr>\n",
       "<tr>\n",
       "  <th>Time:</th>                 <td>11:02:46</td>     <th>  Log-Likelihood:    </th> <td> -386.20</td>\n",
       "</tr>\n",
       "<tr>\n",
       "  <th>No. Observations:</th>      <td>   200</td>      <th>  AIC:               </th> <td>   778.4</td>\n",
       "</tr>\n",
       "<tr>\n",
       "  <th>Df Residuals:</th>          <td>   197</td>      <th>  BIC:               </th> <td>   788.3</td>\n",
       "</tr>\n",
       "<tr>\n",
       "  <th>Df Model:</th>              <td>     2</td>      <th>                     </th>     <td> </td>   \n",
       "</tr>\n",
       "<tr>\n",
       "  <th>Covariance Type:</th>      <td>nonrobust</td>    <th>                     </th>     <td> </td>   \n",
       "</tr>\n",
       "</table>\n",
       "<table class=\"simpletable\">\n",
       "<tr>\n",
       "    <td></td>       <th>coef</th>     <th>std err</th>      <th>t</th>      <th>P>|t|</th> <th>[95.0% Conf. Int.]</th> \n",
       "</tr>\n",
       "<tr>\n",
       "  <th>const</th> <td>    2.9211</td> <td>    0.294</td> <td>    9.919</td> <td> 0.000</td> <td>    2.340     3.502</td>\n",
       "</tr>\n",
       "<tr>\n",
       "  <th>TV</th>    <td>    0.0458</td> <td>    0.001</td> <td>   32.909</td> <td> 0.000</td> <td>    0.043     0.048</td>\n",
       "</tr>\n",
       "<tr>\n",
       "  <th>Radio</th> <td>    0.1880</td> <td>    0.008</td> <td>   23.382</td> <td> 0.000</td> <td>    0.172     0.204</td>\n",
       "</tr>\n",
       "</table>\n",
       "<table class=\"simpletable\">\n",
       "<tr>\n",
       "  <th>Omnibus:</th>       <td>60.022</td> <th>  Durbin-Watson:     </th> <td>   2.081</td>\n",
       "</tr>\n",
       "<tr>\n",
       "  <th>Prob(Omnibus):</th> <td> 0.000</td> <th>  Jarque-Bera (JB):  </th> <td> 148.679</td>\n",
       "</tr>\n",
       "<tr>\n",
       "  <th>Skew:</th>          <td>-1.323</td> <th>  Prob(JB):          </th> <td>5.19e-33</td>\n",
       "</tr>\n",
       "<tr>\n",
       "  <th>Kurtosis:</th>      <td> 6.292</td> <th>  Cond. No.          </th> <td>    425.</td>\n",
       "</tr>\n",
       "</table>"
      ],
      "text/plain": [
       "<class 'statsmodels.iolib.summary.Summary'>\n",
       "\"\"\"\n",
       "                            OLS Regression Results                            \n",
       "==============================================================================\n",
       "Dep. Variable:                      y   R-squared:                       0.897\n",
       "Model:                            OLS   Adj. R-squared:                  0.896\n",
       "Method:                 Least Squares   F-statistic:                     859.6\n",
       "Date:                Wed, 12 Oct 2016   Prob (F-statistic):           4.83e-98\n",
       "Time:                        11:02:46   Log-Likelihood:                -386.20\n",
       "No. Observations:                 200   AIC:                             778.4\n",
       "Df Residuals:                     197   BIC:                             788.3\n",
       "Df Model:                           2                                         \n",
       "Covariance Type:            nonrobust                                         \n",
       "==============================================================================\n",
       "                 coef    std err          t      P>|t|      [95.0% Conf. Int.]\n",
       "------------------------------------------------------------------------------\n",
       "const          2.9211      0.294      9.919      0.000         2.340     3.502\n",
       "TV             0.0458      0.001     32.909      0.000         0.043     0.048\n",
       "Radio          0.1880      0.008     23.382      0.000         0.172     0.204\n",
       "==============================================================================\n",
       "Omnibus:                       60.022   Durbin-Watson:                   2.081\n",
       "Prob(Omnibus):                  0.000   Jarque-Bera (JB):              148.679\n",
       "Skew:                          -1.323   Prob(JB):                     5.19e-33\n",
       "Kurtosis:                       6.292   Cond. No.                         425.\n",
       "==============================================================================\n",
       "\n",
       "Warnings:\n",
       "[1] Standard Errors assume that the covariance matrix of the errors is correctly specified.\n",
       "\"\"\""
      ]
     },
     "execution_count": 146,
     "metadata": {},
     "output_type": "execute_result"
    }
   ],
   "source": [
    "reg.summary()"
   ]
  },
  {
   "cell_type": "markdown",
   "metadata": {},
   "source": [
    "### Variable Selection\n",
    "\n",
    "Apart from the algorithms themselves, another important aspect in machine learning is variable selection. In linear models, often, not only the predictors themselves are used, but also combinations of predictors,\n",
    "\n",
    "$$\\text{sales} = b_0 + b_1 \\times \\text{TV} +  b_2 \\times \\text{radio} +  b_3 \\times \\text{TV} \\times \\text{radio} $$\n",
    "\n",
    "Let us add this interaction to our model by appending a new column to our DataFrame that contains the product of 'TV' and 'Radio'."
   ]
  },
  {
   "cell_type": "code",
   "execution_count": 1,
   "metadata": {
    "collapsed": false
   },
   "outputs": [
    {
     "ename": "NameError",
     "evalue": "name 'df' is not defined",
     "output_type": "error",
     "traceback": [
      "\u001b[1;31m---------------------------------------------------------------------------\u001b[0m",
      "\u001b[1;31mNameError\u001b[0m                                 Traceback (most recent call last)",
      "\u001b[1;32m<ipython-input-1-b19b7cdc667d>\u001b[0m in \u001b[0;36m<module>\u001b[1;34m()\u001b[0m\n\u001b[1;32m----> 1\u001b[1;33m \u001b[0mX\u001b[0m \u001b[1;33m=\u001b[0m \u001b[0mdf\u001b[0m\u001b[1;33m[\u001b[0m\u001b[1;33m[\u001b[0m\u001b[1;34m'TV'\u001b[0m\u001b[1;33m,\u001b[0m\u001b[1;34m'Radio'\u001b[0m\u001b[1;33m]\u001b[0m\u001b[1;33m]\u001b[0m\u001b[1;33m.\u001b[0m\u001b[0mcopy\u001b[0m\u001b[1;33m(\u001b[0m\u001b[1;33m)\u001b[0m\u001b[1;33m\u001b[0m\u001b[0m\n\u001b[0m\u001b[0;32m      2\u001b[0m \u001b[0mX\u001b[0m\u001b[1;33m[\u001b[0m\u001b[1;34m'TVxRadio'\u001b[0m\u001b[1;33m]\u001b[0m \u001b[1;33m=\u001b[0m \u001b[0mdf\u001b[0m\u001b[1;33m.\u001b[0m\u001b[0mTV\u001b[0m\u001b[1;33m*\u001b[0m\u001b[0mdf\u001b[0m\u001b[1;33m.\u001b[0m\u001b[0mRadio\u001b[0m\u001b[1;33m\u001b[0m\u001b[0m\n\u001b[0;32m      3\u001b[0m \u001b[0mX\u001b[0m \u001b[1;33m=\u001b[0m \u001b[0msm\u001b[0m\u001b[1;33m.\u001b[0m\u001b[0madd_constant\u001b[0m\u001b[1;33m(\u001b[0m\u001b[0mX\u001b[0m\u001b[1;33m)\u001b[0m\u001b[1;33m\u001b[0m\u001b[0m\n\u001b[0;32m      4\u001b[0m \u001b[0mreg\u001b[0m \u001b[1;33m=\u001b[0m \u001b[0msm\u001b[0m\u001b[1;33m.\u001b[0m\u001b[0mOLS\u001b[0m\u001b[1;33m(\u001b[0m\u001b[0my\u001b[0m\u001b[1;33m,\u001b[0m\u001b[0mX\u001b[0m\u001b[1;33m)\u001b[0m\u001b[1;33m.\u001b[0m\u001b[0mfit\u001b[0m\u001b[1;33m(\u001b[0m\u001b[1;33m)\u001b[0m\u001b[1;33m\u001b[0m\u001b[0m\n\u001b[0;32m      5\u001b[0m \u001b[0mreg\u001b[0m \u001b[1;33m=\u001b[0m \u001b[0msm\u001b[0m\u001b[1;33m.\u001b[0m\u001b[0mOLS\u001b[0m\u001b[1;33m(\u001b[0m\u001b[0my\u001b[0m\u001b[1;33m,\u001b[0m\u001b[0mX\u001b[0m\u001b[1;33m)\u001b[0m\u001b[1;33m\u001b[0m\u001b[0m\n",
      "\u001b[1;31mNameError\u001b[0m: name 'df' is not defined"
     ]
    }
   ],
   "source": [
    "X = df[['TV','Radio']].copy()\n",
    "X['TVxRadio'] = df.TV*df.Radio\n",
    "X = sm.add_constant(X)\n",
    "reg = sm.OLS(y,X).fit()"
   ]
  },
  {
   "cell_type": "markdown",
   "metadata": {},
   "source": [
    "In addition to looking at quality of fit measure, we can also visually inspect the model fit by plotting the residuals agains the individal parameters. This may help us to identify whether there is some non-linear behavious in the parameters that is not captured by our model."
   ]
  },
  {
   "cell_type": "code",
   "execution_count": 254,
   "metadata": {
    "collapsed": false
   },
   "outputs": [
    {
     "data": {
      "image/png": "[encoded data removed]",
      "text/plain": [
       "<matplotlib.figure.Figure at 0x7efe2d2cf650>"
      ]
     },
     "metadata": {},
     "output_type": "display_data"
    }
   ],
   "source": [
    "X['resid'] = reg.resid\n",
    "fig, (ax1,ax2) = plt.subplots(1,2, figsize=(16,5))\n",
    "X.plot(kind='scatter', x='TV', y='resid', ax=ax1)\n",
    "X.plot(kind='scatter', x='Radio', y='resid', ax=ax2)\n",
    "plt.show()"
   ]
  },
  {
   "cell_type": "markdown",
   "metadata": {},
   "source": [
    "As we can see, there seems to be a non-linear relationship between 'TV' and the residuals. Especially, it appears that our prediction is too large for low and high values of 'TV' and too low for intermediate values. Let us therefore add polynomials of degree $d$ to our model.\n",
    "\n",
    "$$\\text{sales} = b_0 + b_1 \\times \\text{TV} +  b_2 \\times \\text{radio} +  b_3 \\times \\text{TV} \\times \\text{radio} + b_4\\text{TV}^2 + ... + b_{d+2} \\text{TV}^d $$\n",
    "\n",
    "The question is now, how many degrees our polynomial should have and which terms to select. To automatically select the right number of polynomials of given degree $d$, we are going to use the Aikaike information criterion (AIC), \n",
    "\n",
    "$$AIC = 2p + n \\ln \\left( \\frac{RSS}{n}\\right)$$\n",
    "\n",
    "The AIC measures the quality of our model relative to other candiate models by balancing model complexity against the goodness-of-fit (see: bias variance trade-off). In our linear model, model complexity scales with the number of parameters in our model, whereas goodness-of-fit is measured through the MSE.\n",
    "\n",
    "To find the model with the best fit, we iteratively add a polynomial of higher degree and print the lowest AIC:"
   ]
  },
  {
   "cell_type": "code",
   "execution_count": 3,
   "metadata": {
    "collapsed": false,
    "scrolled": true
   },
   "outputs": [
    {
     "ename": "NameError",
     "evalue": "name 'df' is not defined",
     "output_type": "error",
     "traceback": [
      "\u001b[1;31m---------------------------------------------------------------------------\u001b[0m",
      "\u001b[1;31mNameError\u001b[0m                                 Traceback (most recent call last)",
      "\u001b[1;32m<ipython-input-3-587d262aaf65>\u001b[0m in \u001b[0;36m<module>\u001b[1;34m()\u001b[0m\n\u001b[1;32m----> 1\u001b[1;33m \u001b[0mX\u001b[0m \u001b[1;33m=\u001b[0m \u001b[0mdf\u001b[0m\u001b[1;33m[\u001b[0m\u001b[1;33m[\u001b[0m\u001b[1;34m'TV'\u001b[0m\u001b[1;33m,\u001b[0m\u001b[1;34m'Radio'\u001b[0m\u001b[1;33m]\u001b[0m\u001b[1;33m]\u001b[0m\u001b[1;33m.\u001b[0m\u001b[0mcopy\u001b[0m\u001b[1;33m(\u001b[0m\u001b[1;33m)\u001b[0m\u001b[1;33m\u001b[0m\u001b[0m\n\u001b[0m\u001b[0;32m      2\u001b[0m \u001b[0mX\u001b[0m\u001b[1;33m[\u001b[0m\u001b[1;34m'TVxRadio'\u001b[0m\u001b[1;33m]\u001b[0m \u001b[1;33m=\u001b[0m \u001b[0mdf\u001b[0m\u001b[1;33m.\u001b[0m\u001b[0mTV\u001b[0m\u001b[1;33m*\u001b[0m\u001b[0mdf\u001b[0m\u001b[1;33m.\u001b[0m\u001b[0mRadio\u001b[0m\u001b[1;33m\u001b[0m\u001b[0m\n\u001b[0;32m      3\u001b[0m \u001b[0mX\u001b[0m \u001b[1;33m=\u001b[0m \u001b[0msm\u001b[0m\u001b[1;33m.\u001b[0m\u001b[0madd_constant\u001b[0m\u001b[1;33m(\u001b[0m\u001b[0mX\u001b[0m\u001b[1;33m)\u001b[0m\u001b[1;33m\u001b[0m\u001b[0m\n\u001b[0;32m      4\u001b[0m \u001b[0mreg\u001b[0m \u001b[1;33m=\u001b[0m \u001b[0msm\u001b[0m\u001b[1;33m.\u001b[0m\u001b[0mOLS\u001b[0m\u001b[1;33m(\u001b[0m\u001b[0my\u001b[0m\u001b[1;33m,\u001b[0m\u001b[0mX\u001b[0m\u001b[1;33m)\u001b[0m\u001b[1;33m.\u001b[0m\u001b[0mfit\u001b[0m\u001b[1;33m(\u001b[0m\u001b[1;33m)\u001b[0m\u001b[1;33m\u001b[0m\u001b[0m\n\u001b[0;32m      5\u001b[0m \u001b[1;32mprint\u001b[0m \u001b[1;34m\"degree: %d, \"\u001b[0m\u001b[1;33m%\u001b[0m\u001b[1;36m1\u001b[0m\u001b[1;33m,\u001b[0m\u001b[1;34m\"aic:\"\u001b[0m\u001b[1;33m,\u001b[0m\u001b[0mreg\u001b[0m\u001b[1;33m.\u001b[0m\u001b[0maic\u001b[0m\u001b[1;33m\u001b[0m\u001b[0m\n",
      "\u001b[1;31mNameError\u001b[0m: name 'df' is not defined"
     ]
    }
   ],
   "source": [
    "X = df[['TV','Radio']].copy()\n",
    "X['TVxRadio'] = df.TV*df.Radio\n",
    "X = sm.add_constant(X)\n",
    "reg = sm.OLS(y,X).fit()\n",
    "print \"degree: %d, \"%1,\"aic:\",reg.aic\n",
    "for degree in range(2,11):\n",
    "    X['TV^%d'%degree] = X.TV.pow(degree)\n",
    "    reg = sm.OLS(y,X).fit()\n",
    "    print \"degree: %d, \"%degree,\"aic:\",reg.aic"
   ]
  },
  {
   "cell_type": "markdown",
   "metadata": {},
   "source": [
    "### Cross Validation\n",
    "\n",
    "Instead of using the AIC to select a model, we can use also cross validation. While cross validation is computationally more expensive, it is more generally applicable, and we will revisit it throughout this course for parameter / model selection.\n",
    "\n",
    "Since Statsmodels does not provide functions for cross validation, let us switch to [scikit-learn](http://scikit-learn.org/stable/), the machine learning library in Python. First, we must import the necessary modules, LinearRegression and KFold."
   ]
  },
  {
   "cell_type": "code",
   "execution_count": 197,
   "metadata": {
    "collapsed": true
   },
   "outputs": [],
   "source": [
    "from sklearn.linear_model import LinearRegression\n",
    "from sklearn.cross_validation import KFold"
   ]
  },
  {
   "cell_type": "markdown",
   "metadata": {},
   "source": [
    "As above, we separate predictors and response into separate arrays and create a  [LinearRegression](http://scikit-learn.org/stable/modules/generated/sklearn.linear_model.LinearRegression.html) object. The  object provides the functions [fit(X,y)](http://scikit-learn.org/stable/modules/generated/sklearn.linear_model.LinearRegression.html#sklearn.linear_model.LinearRegression.fit), [predict(X)](http://scikit-learn.org/stable/modules/generated/sklearn.linear_model.LinearRegression.html#sklearn.linear_model.LinearRegression.predict), and [score(X,y)](http://scikit-learn.org/stable/modules/generated/sklearn.linear_model.LinearRegression.html#sklearn.linear_model.LinearRegression.score) ($=R^2$) which are provided by all of scikit's predcitor objects, as we will see later in this course.\n",
    "\n",
    "Let us compute the *in-sample* fit of our model by fitting a model to our data and then computing the $R^2$."
   ]
  },
  {
   "cell_type": "code",
   "execution_count": 210,
   "metadata": {
    "collapsed": false
   },
   "outputs": [
    {
     "data": {
      "text/plain": [
       "0.89719426108289557"
      ]
     },
     "execution_count": 210,
     "metadata": {},
     "output_type": "execute_result"
    }
   ],
   "source": [
    "X = df[['TV','Radio']].copy()\n",
    "y = df.Sales\n",
    "reg = LinearRegression()\n",
    "reg.fit(X,y)\n",
    "reg.score(X,y)"
   ]
  },
  {
   "cell_type": "markdown",
   "metadata": {},
   "source": [
    "For cross validation, we will use the object [KFold](http://scikit-learn.org/stable/modules/generated/sklearn.model_selection.KFold.html). All it does is provide an iterator over the k folds, each consisting of a pair of a set of indices, one for the test and one for the training set. These indices can then be used to select the elements that correspond to a set of observations from the complete data set.\n",
    "\n",
    "For each fold, we will perform the regression on the training set and then compute the $R^2$ for the test set. We then sum up all the $R^2$ from each fold and compute its average, which will serve as our *out-of-sample* fit."
   ]
  },
  {
   "cell_type": "code",
   "execution_count": 211,
   "metadata": {
    "collapsed": false
   },
   "outputs": [
    {
     "data": {
      "text/plain": [
       "0.87772379750156648"
      ]
     },
     "execution_count": 211,
     "metadata": {},
     "output_type": "execute_result"
    }
   ],
   "source": [
    "avg_score = 0.\n",
    "for test,train in KFold(n, n_folds=5):\n",
    "    X_test, X_train =  X.values[test], X.values[train] #select data using internal numpy array\n",
    "    y_test, y_train =  y.iloc[test], y.iloc[train] #select data using Pandas' iloc function\n",
    "    reg.fit(X_train,y_train)\n",
    "    avg_score += reg.score(X_test,y_test)/5.\n",
    "avg_score"
   ]
  },
  {
   "cell_type": "markdown",
   "metadata": {},
   "source": [
    "## Exercises\n",
    "1. Implement AdaGrad and use it to fit the first advertising sales model. What do you observe when comparing it to stochastic gradient descent or the analytical solution from Statsmodels?\n",
    "2. Wrap stochastic gradient descent (AdaGrad) into a separate function that requires X and y as input arguments (optional: iterations, default = 10n) and returns the parameter vector b. This function should be used from now on two fit models.\n",
    "3. Run gradient descent prediction of Sales = b_0 + b_1*TV and plot the prediction against the original data using Matplotlib.\n",
    "4. Use cross validation to select the right order of the polynomial. Automatically stop when the best $R^2$ is found. What do you observe when comparing it to the solution using the AIC?"
   ]
  },
  {
   "cell_type": "code",
   "execution_count": null,
   "metadata": {
    "collapsed": true
   },
   "outputs": [],
   "source": []
  }
 ],
 "metadata": {
  "kernelspec": {
   "display_name": "Python 2",
   "language": "python",
   "name": "python2"
  },
  "language_info": {
   "codemirror_mode": {
    "name": "ipython",
    "version": 2
   },
   "file_extension": ".py",
   "mimetype": "text/x-python",
   "name": "python",
   "nbconvert_exporter": "python",
   "pygments_lexer": "ipython2",
   "version": "2.7.9"
  }
 },
 "nbformat": 4,
 "nbformat_minor": 0
}
