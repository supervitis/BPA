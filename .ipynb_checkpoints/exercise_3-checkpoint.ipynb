{
 "cells": [
  {
   "cell_type": "markdown",
   "metadata": {},
   "source": [
    "# Session 3 (Exercise) - Classification"
   ]
  },
  {
   "cell_type": "markdown",
   "metadata": {},
   "source": [
    "This is the exercise of the third session of the lecture **1743 - Data Mining and Decision Support Systems** held by Prof. Nils Löhndorf at the Vienna University of Economics and Business during the winter term 2016/2017. It was conducted by group WU6 consisting of Boris Haviar, David Riobo Barba and Manuel Raffel."
   ]
  },
  {
   "cell_type": "markdown",
   "metadata": {},
   "source": [
    "---\n",
    "*1. Use the `SGDClassifier` provided by scikit-learn. Set `loss='log'`, `learning_rate='constant'`, `alpha=0.0`, `random_state=191`. Set `n_iter=10`, so that the SGDClassifier will sweep the sample 10 times. The stepsize is defined by the parameter `eta0`. Use 5-fold cross validation to search for a good eta0.*"
   ]
  },
  {
   "cell_type": "code",
   "execution_count": 1,
   "metadata": {
    "collapsed": true
   },
   "outputs": [],
   "source": [
    "from sklearn import cross_validation\n",
    "from sklearn.preprocessing import *\n",
    "from sklearn.naive_bayes import GaussianNB\n",
    "from sklearn.discriminant_analysis import *\n",
    "from sklearn.neighbors import KNeighborsClassifier\n",
    "from sklearn.linear_model import *\n",
    "from sklearn.cross_validation import KFold\n",
    "import random"
   ]
  },
  {
   "cell_type": "markdown",
   "metadata": {},
   "source": [
    "The used data is the same as in lesson 3."
   ]
  },
  {
   "cell_type": "code",
   "execution_count": 2,
   "metadata": {
    "collapsed": false
   },
   "outputs": [
    {
     "data": {
      "text/html": [
       "<div>\n",
       "<table border=\"1\" class=\"dataframe\">\n",
       "  <thead>\n",
       "    <tr style=\"text-align: right;\">\n",
       "      <th></th>\n",
       "      <th>0</th>\n",
       "      <th>1</th>\n",
       "      <th>2</th>\n",
       "      <th>3</th>\n",
       "      <th>4</th>\n",
       "      <th>5</th>\n",
       "      <th>6</th>\n",
       "      <th>7</th>\n",
       "      <th>8</th>\n",
       "      <th>9</th>\n",
       "      <th>...</th>\n",
       "      <th>48</th>\n",
       "      <th>49</th>\n",
       "      <th>50</th>\n",
       "      <th>51</th>\n",
       "      <th>52</th>\n",
       "      <th>53</th>\n",
       "      <th>54</th>\n",
       "      <th>55</th>\n",
       "      <th>56</th>\n",
       "      <th>Spam</th>\n",
       "    </tr>\n",
       "  </thead>\n",
       "  <tbody>\n",
       "    <tr>\n",
       "      <th>0</th>\n",
       "      <td>0.00</td>\n",
       "      <td>0.64</td>\n",
       "      <td>0.64</td>\n",
       "      <td>0.00</td>\n",
       "      <td>0.32</td>\n",
       "      <td>0.00</td>\n",
       "      <td>0.00</td>\n",
       "      <td>0.00</td>\n",
       "      <td>0.00</td>\n",
       "      <td>0.00</td>\n",
       "      <td>...</td>\n",
       "      <td>0.00</td>\n",
       "      <td>0.00</td>\n",
       "      <td>0.00</td>\n",
       "      <td>0.78</td>\n",
       "      <td>0.00</td>\n",
       "      <td>0.00</td>\n",
       "      <td>3.76</td>\n",
       "      <td>61</td>\n",
       "      <td>278</td>\n",
       "      <td>1</td>\n",
       "    </tr>\n",
       "    <tr>\n",
       "      <th>1</th>\n",
       "      <td>0.21</td>\n",
       "      <td>0.28</td>\n",
       "      <td>0.50</td>\n",
       "      <td>0.00</td>\n",
       "      <td>0.14</td>\n",
       "      <td>0.28</td>\n",
       "      <td>0.21</td>\n",
       "      <td>0.07</td>\n",
       "      <td>0.00</td>\n",
       "      <td>0.94</td>\n",
       "      <td>...</td>\n",
       "      <td>0.00</td>\n",
       "      <td>0.13</td>\n",
       "      <td>0.00</td>\n",
       "      <td>0.37</td>\n",
       "      <td>0.18</td>\n",
       "      <td>0.05</td>\n",
       "      <td>5.11</td>\n",
       "      <td>101</td>\n",
       "      <td>1028</td>\n",
       "      <td>1</td>\n",
       "    </tr>\n",
       "    <tr>\n",
       "      <th>2</th>\n",
       "      <td>0.06</td>\n",
       "      <td>0.00</td>\n",
       "      <td>0.71</td>\n",
       "      <td>0.00</td>\n",
       "      <td>1.23</td>\n",
       "      <td>0.19</td>\n",
       "      <td>0.19</td>\n",
       "      <td>0.12</td>\n",
       "      <td>0.64</td>\n",
       "      <td>0.25</td>\n",
       "      <td>...</td>\n",
       "      <td>0.01</td>\n",
       "      <td>0.14</td>\n",
       "      <td>0.00</td>\n",
       "      <td>0.28</td>\n",
       "      <td>0.18</td>\n",
       "      <td>0.01</td>\n",
       "      <td>9.82</td>\n",
       "      <td>485</td>\n",
       "      <td>2259</td>\n",
       "      <td>1</td>\n",
       "    </tr>\n",
       "    <tr>\n",
       "      <th>3</th>\n",
       "      <td>0.00</td>\n",
       "      <td>0.00</td>\n",
       "      <td>0.00</td>\n",
       "      <td>0.00</td>\n",
       "      <td>0.63</td>\n",
       "      <td>0.00</td>\n",
       "      <td>0.31</td>\n",
       "      <td>0.63</td>\n",
       "      <td>0.31</td>\n",
       "      <td>0.63</td>\n",
       "      <td>...</td>\n",
       "      <td>0.00</td>\n",
       "      <td>0.14</td>\n",
       "      <td>0.00</td>\n",
       "      <td>0.14</td>\n",
       "      <td>0.00</td>\n",
       "      <td>0.00</td>\n",
       "      <td>3.54</td>\n",
       "      <td>40</td>\n",
       "      <td>191</td>\n",
       "      <td>1</td>\n",
       "    </tr>\n",
       "    <tr>\n",
       "      <th>4</th>\n",
       "      <td>0.00</td>\n",
       "      <td>0.00</td>\n",
       "      <td>0.00</td>\n",
       "      <td>0.00</td>\n",
       "      <td>0.63</td>\n",
       "      <td>0.00</td>\n",
       "      <td>0.31</td>\n",
       "      <td>0.63</td>\n",
       "      <td>0.31</td>\n",
       "      <td>0.63</td>\n",
       "      <td>...</td>\n",
       "      <td>0.00</td>\n",
       "      <td>0.14</td>\n",
       "      <td>0.00</td>\n",
       "      <td>0.14</td>\n",
       "      <td>0.00</td>\n",
       "      <td>0.00</td>\n",
       "      <td>3.54</td>\n",
       "      <td>40</td>\n",
       "      <td>191</td>\n",
       "      <td>1</td>\n",
       "    </tr>\n",
       "  </tbody>\n",
       "</table>\n",
       "<p>5 rows × 58 columns</p>\n",
       "</div>"
      ],
      "text/plain": [
       "     0    1    2    3    4    5    6    7    8    9  ...    48   49   50   51  \\\n",
       "0 0.00 0.64 0.64 0.00 0.32 0.00 0.00 0.00 0.00 0.00  ...  0.00 0.00 0.00 0.78   \n",
       "1 0.21 0.28 0.50 0.00 0.14 0.28 0.21 0.07 0.00 0.94  ...  0.00 0.13 0.00 0.37   \n",
       "2 0.06 0.00 0.71 0.00 1.23 0.19 0.19 0.12 0.64 0.25  ...  0.01 0.14 0.00 0.28   \n",
       "3 0.00 0.00 0.00 0.00 0.63 0.00 0.31 0.63 0.31 0.63  ...  0.00 0.14 0.00 0.14   \n",
       "4 0.00 0.00 0.00 0.00 0.63 0.00 0.31 0.63 0.31 0.63  ...  0.00 0.14 0.00 0.14   \n",
       "\n",
       "    52   53   54   55    56  Spam  \n",
       "0 0.00 0.00 3.76   61   278     1  \n",
       "1 0.18 0.05 5.11  101  1028     1  \n",
       "2 0.18 0.01 9.82  485  2259     1  \n",
       "3 0.00 0.00 3.54   40   191     1  \n",
       "4 0.00 0.00 3.54   40   191     1  \n",
       "\n",
       "[5 rows x 58 columns]"
      ]
     },
     "execution_count": 2,
     "metadata": {},
     "output_type": "execute_result"
    }
   ],
   "source": [
    "df = pd.read_csv('http://statweb.stanford.edu/~tibs/ElemStatLearn/datasets/spam.data', \n",
    "                 engine='python', sep='\\\\s', header=None)\n",
    "feat_index = range(57)\n",
    "df.columns = feat_index + ['Spam']\n",
    "df.head()"
   ]
  },
  {
   "cell_type": "markdown",
   "metadata": {},
   "source": [
    "As the data is ordered by the binary response \"Spam\", it needs to be shuffled so that the folds generated by the KFold-Algorithm have distinct values for this variable."
   ]
  },
  {
   "cell_type": "code",
   "execution_count": 3,
   "metadata": {
    "collapsed": false
   },
   "outputs": [],
   "source": [
    "df = df.reindex(np.random.permutation(df.index))"
   ]
  },
  {
   "cell_type": "markdown",
   "metadata": {
    "collapsed": false
   },
   "source": [
    "To compute the best possible score, the eta0 is \"brute-forced\" by increasing it in steps of 0.0001 from 0 to 1. For every eta0, a SGDClassifier with the parameters given in the task is created. By using 5-fold cross validation, the accuracy is calculated and, if it is better than the previous best, stored."
   ]
  },
  {
   "cell_type": "code",
   "execution_count": 13,
   "metadata": {
    "collapsed": false
   },
   "outputs": [
    {
     "name": "stdout",
     "output_type": "stream",
     "text": [
      "Step 10000 of 10000 (current eta: 1.0 | current score: 0.653447285119 | best eta: 0.3937 | best score: 0.697130195599)\n",
      "accuracy: 69.7 percent with an eta0 of 0.3937\n"
     ]
    }
   ],
   "source": [
    "X = df[feat_index].values\n",
    "y = df.Spam.values\n",
    "n = len(df)\n",
    "best_eta = 0.0001\n",
    "best_score = 0\n",
    "for eta in xrange(1, 10001):\n",
    "    avg_score = 0\n",
    "    sgd = SGDClassifier(loss='log', alpha=0.0, n_iter=10, random_state=191, learning_rate='constant', eta0=(eta/10000.0))\n",
    "    for test, train in KFold(n, n_folds=5):\n",
    "        X_test, X_train = X[test], X[train]\n",
    "        y_test, y_train = y[test], y[train]\n",
    "        sgd.fit(X_train, y_train)\n",
    "        avg_score += sgd.score(X_test, y_test)/5\n",
    "    if avg_score > best_score:\n",
    "        best_score = avg_score\n",
    "        best_eta = (eta/10000.0)\n",
    "    sys.stdout.write(\"\\rStep \" + str(eta) + \" of 10000 (current eta: \" + str(eta/10000.0) + \n",
    "                     \" | current score: \" + str(avg_score) + \" | best eta: \" + str(best_eta) + \n",
    "                     \" | best score: \" + str(best_score) + \")\")\n",
    "print(\"\\naccuracy: %.1f percent\"%(100*best_score) + \" with an eta0 of \" + str(best_eta))"
   ]
  },
  {
   "cell_type": "markdown",
   "metadata": {},
   "source": [
    "---\n",
    "*2. Implement a variant of logistic regression using stochastic gradient ascent with AdaGrad stepsizes. Make sure that the sample size is 10 times the training set size, so that your classifier sees as many data points as the SGDClassifier.*"
   ]
  },
  {
   "cell_type": "markdown",
   "metadata": {},
   "source": [
    "In order to already prepare for task 3, the variant was already implemented as a class, `SGAdaGradClassifier`. It's `fit(X,y,n_iter)`-method per default adjusts its sample size by multiplying the sample length with 10 to account for comparability to the `n_iter=10` used by the SGDClassifier above."
   ]
  },
  {
   "cell_type": "code",
   "execution_count": 34,
   "metadata": {
    "collapsed": false
   },
   "outputs": [],
   "source": [
    "class SGAdaGradClassifier:\n",
    "    def fit(self, X, y, n_iter='default'):\n",
    "        n = len(X)\n",
    "        b = np.zeros(len(X[0]))\n",
    "        G = 1\n",
    "        \n",
    "        if n_iter == 'default':\n",
    "            size = 10*len(X) # adjust sample size for comparability per default\n",
    "        else: \n",
    "            size = n_iter\n",
    "    \n",
    "        # stochastic gradient ascent with AdaGrad stepsize\n",
    "        for j in range(size):\n",
    "            i = random.randint(0,n-1)\n",
    "            grad = (y[i]-(1 + np.exp(min(50,-b.dot(X[i]))))**-1)*X[i]\n",
    "            G += grad**2\n",
    "            b += grad/G**0.5\n",
    "            \n",
    "        self.b = b\n",
    "        \n",
    "    def score(self, X, y):\n",
    "        est_correct = 0\n",
    "        \n",
    "        for i in range(len(X)):\n",
    "            isSpam = y[i]\n",
    "            isSpamEstimation = (1 + math.exp(min(50,-self.b.dot(X[i]))))**-1\n",
    "            \n",
    "            # isSpamEstimation mostly is either close to 0 or close to 1, \n",
    "            # for the values in between we only identify it as spam if the estimation is really close to 1\n",
    "            if isSpamEstimation <= 0.99:\n",
    "                isSpamEstimation = 0\n",
    "            else:\n",
    "                isSpamEstimation = 1\n",
    "                \n",
    "            if isSpamEstimation == isSpam:\n",
    "                est_correct += 1\n",
    "                \n",
    "        return float(est_correct) / len(X)"
   ]
  },
  {
   "cell_type": "markdown",
   "metadata": {},
   "source": [
    "To test the implemented SGAdaGradClassifier, the same 5-fold cross validation as above is used. It appears its accuracy is higher than the one of SGDClassifier, normally yielding values bigger than 80%."
   ]
  },
  {
   "cell_type": "code",
   "execution_count": 54,
   "metadata": {
    "collapsed": false
   },
   "outputs": [
    {
     "name": "stdout",
     "output_type": "stream",
     "text": [
      "accuracy: 88.1 percent\n"
     ]
    }
   ],
   "source": [
    "avg_score = 0\n",
    "sga = SGAdaGradClassifier()\n",
    "for test, train in KFold(n, n_folds=5):\n",
    "    X_test, X_train = X[test], X[train]\n",
    "    y_test, y_train = y[test], y[train]\n",
    "    sga.fit(X_train, y_train)\n",
    "    avg_score += sga.score(X_test, y_test)/5\n",
    "print(\"accuracy: %.1f percent\"%(100*avg_score))"
   ]
  },
  {
   "cell_type": "markdown",
   "metadata": {},
   "source": [
    "---\n",
    "*3. Compare your own classifier against the SGDClassifier and LogisticRegression using the function `accuracy_dist()`. Note that, for this you should implement the classifier in its own class which must implement the functions `fit(X,y)` and `score(X,y)`. The trick is to use a class variable for the parameters, e.g., `self.beta`, which can be accessed in both functions. If creating a class seems to difficult a function that does both, fitting and scoring, will also do the trick.*"
   ]
  },
  {
   "cell_type": "markdown",
   "metadata": {},
   "source": [
    "The function `accuracy_dist()` is taken straight from lesson 3."
   ]
  },
  {
   "cell_type": "code",
   "execution_count": 7,
   "metadata": {
    "collapsed": true
   },
   "outputs": [],
   "source": [
    "def accuracy_dist(clfs, X, y, n=10):\n",
    "    accuracy = np.zeros((n,len(clfs)))\n",
    "    columns = [clf.__class__.__name__ for clf in clfs]\n",
    "    for i in range(n):\n",
    "        X_train, X_test, y_train, y_test = cross_validation.train_test_split(X, y, random_state=31*i)\n",
    "        for j in range(len(clfs)):\n",
    "            clf = clfs[j]\n",
    "            clf.fit(X_train,y_train)\n",
    "            accuracy[i][j] = clf.score(X_test,y_test)\n",
    "    return pd.DataFrame(accuracy, columns=columns, index=range(n))"
   ]
  },
  {
   "cell_type": "markdown",
   "metadata": {},
   "source": [
    "To keep up the comparability to the SGAdaGradClassifier, the SGDClassifiert is again initialized with `n_iter=10`."
   ]
  },
  {
   "cell_type": "code",
   "execution_count": 8,
   "metadata": {
    "collapsed": false
   },
   "outputs": [
    {
     "data": {
      "image/png": "[encoded data removed]",
      "text/plain": [
       "<matplotlib.figure.Figure at 0x7f4a4561bed0>"
      ]
     },
     "metadata": {},
     "output_type": "display_data"
    }
   ],
   "source": [
    "accuracy_df = accuracy_dist([SGAdaGradClassifier(),\n",
    "                             SGDClassifier(loss='log', alpha=0.0, n_iter=10, random_state=191, \n",
    "                                           learning_rate='constant', eta0=best_eta),\n",
    "                             LogisticRegression()], X, y)\n",
    "accuracy_df.plot(kind='kde', ylim=[0,60])\n",
    "plt.show()"
   ]
  },
  {
   "cell_type": "markdown",
   "metadata": {
    "collapsed": true
   },
   "source": [
    "As already concluded after task 2, the SGAdaGradClassifier in general performs better than the SGDClassifier, although worse than logistic regression."
   ]
  }
 ],
 "metadata": {
  "anaconda-cloud": {},
  "kernelspec": {
   "display_name": "Python [conda root]",
   "language": "python",
   "name": "conda-root-py"
  },
  "language_info": {
   "codemirror_mode": {
    "name": "ipython",
    "version": 3
   },
   "file_extension": ".py",
   "mimetype": "text/x-python",
   "name": "python",
   "nbconvert_exporter": "python",
   "pygments_lexer": "ipython3",
   "version": "3.5.2"
  }
 },
 "nbformat": 4,
 "nbformat_minor": 0
}
