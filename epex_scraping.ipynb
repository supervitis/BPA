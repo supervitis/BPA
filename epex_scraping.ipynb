{
 "cells": [
  {
   "cell_type": "markdown",
   "metadata": {},
   "source": [
    "#Session 1\n",
    "## Explorative Analysis of EPEXPOT Prices\n",
    "\n",
    "The first step in the data mining process is to develop an understanding of the business as well as the data that is needed to support it (see CRISP-DM). The next step in the process is data preparation, wich requires is to first akquire the data. Nowadays plenty of data is available on the web, either through APIs (Twitter, Goolgle, Quandl, etc.) or on the web pages themselves. If data is somehow embedded on a website, we need to go through a process called scraping, in order to separate the required data from the rest of the content. \n",
    "\n",
    "### Scraping EPEXSPOT Prices\n",
    "\n",
    "Let us assume that we need hourly electricity prices from the EPEXSPOT market for our business case. EPEXSPOT sells this data, but it must also provide the data on its website, for example, data for the [current week](https://www.epexspot.com/en/market-data/dayaheadauction/auction-table). \n",
    "\n",
    "#### BeautifulSoup\n",
    "\n",
    "To akquire the content and weed out the needed prices, we are going to use a Python library called [BeautifulSoup](https://www.crummy.com/software/BeautifulSoup/bs4/doc/)."
   ]
  },
  {
   "cell_type": "code",
   "execution_count": 1,
   "metadata": {
    "collapsed": false
   },
   "outputs": [],
   "source": [
    "from bs4 import BeautifulSoup\n",
    "import urllib"
   ]
  },
  {
   "cell_type": "markdown",
   "metadata": {},
   "source": [
    "If we provide the day of the week in the ULR, we get one week of hourly prices, with the given date as the last day of the week. We can use this in a later step to build a fully automated mining bot. By providing BeautifulSoup with the content of the url, it can import and store the content in a proprietary format."
   ]
  },
  {
   "cell_type": "code",
   "execution_count": 2,
   "metadata": {
    "collapsed": false
   },
   "outputs": [],
   "source": [
    "url = urllib.urlopen('https://www.epexspot.com/en/market-data/dayaheadauction/auction-table/2016-10-05/de')\n",
    "url = url.read()\n",
    "soup = BeautifulSoup(url,\"lxml\")"
   ]
  },
  {
   "cell_type": "markdown",
   "metadata": {},
   "source": [
    "All price data is available in a table with a *table* tag and has *list hours responsive* as its class name. We can therefore tell BeautifulSoup to extract content that meets this specification from the website and store it for us. BeautifulSoup stores all content that meets this requirement as a *ResultSet* and the individual elements in the set as *Tag*."
   ]
  },
  {
   "cell_type": "code",
   "execution_count": 3,
   "metadata": {
    "collapsed": false
   },
   "outputs": [
    {
     "name": "stdout",
     "output_type": "stream",
     "text": [
      "<class 'bs4.element.ResultSet'> <class 'bs4.element.Tag'>\n"
     ]
    }
   ],
   "source": [
    "table = soup.find_all('table', class_='list hours responsive')\n",
    "print type(table), type(table[1])"
   ]
  },
  {
   "cell_type": "markdown",
   "metadata": {},
   "source": [
    "The result set contains three tables, each holding one week of hourly prices for different markets. The Autrian-German prices are in table 1. The string representation of the Tag that holds table 1 returns its HTML code. Let us take a look at the first 1000 characters and check if the prices shows in the *td* tags match the prices from the website."
   ]
  },
  {
   "cell_type": "code",
   "execution_count": 4,
   "metadata": {
    "collapsed": false
   },
   "outputs": [
    {
     "data": {
      "text/plain": [
       "'<table border=\"0\" cellpadding=\"0\" cellspacing=\"0\" class=\"list hours responsive\" width=\"100%\">\\n<tbody>\\n<tr>\\n<th class=\"title\"></th>\\n<th class=\"units\"></th>\\n<th>Thu, 29/09</th>\\n<th>Fri, 30/09</th>\\n<th>Sat, 01/10</th>\\n<th>Sun, 02/10</th>\\n<th>Mon, 03/10</th>\\n<th>Tue, 04/10</th>\\n<th>Wed, 05/10</th>\\n</tr>\\n<tr class=\"no-border\">\\n<td class=\"title\">\\n                                                                    00 - 01\\n                                                            </td>\\n<td>\\xe2\\x82\\xac/MWh</td>\\n<td>19.93</td>\\n<td>23.79</td>\\n<td>29.18</td>\\n<td>32.68</td>\\n<td>30.81</td>\\n<td>25.96</td>\\n<td>25.06</td>\\n</tr>\\n<tr>\\n<td>\\xc2\\xa0</td>\\n<td>MWh</td>\\n<td>27,661.0</td>\\n<td>30,611.2</td>\\n<td>21,479.9</td>\\n<td>27,717.4</td>\\n<td>25,759.7</td>\\n<td>27,026.6</td>\\n<td>29,045.6</td>\\n</tr>\\n<tr class=\"no-border\">\\n<td class=\"title\">\\n                                                                    01 - 02\\n                                                            </td>\\n<td>\\xe2\\x82\\xac/MWh</td>\\n<td>16.10</td>\\n<td>23.32'"
      ]
     },
     "execution_count": 4,
     "metadata": {},
     "output_type": "execute_result"
    }
   ],
   "source": [
    "str(table[1])[:1000]"
   ]
  },
  {
   "cell_type": "markdown",
   "metadata": {},
   "source": [
    "#### Pandas\n",
    "To be able to analyze the price data, we must convert the data from html format into some data structure that does not treat the prices as strings but as floating point numbers, which will then allow us to perform numerical analyses. A popular library for data analysis in Python is [Pandas](http://pandas.pydata.org). "
   ]
  },
  {
   "cell_type": "code",
   "execution_count": 5,
   "metadata": {
    "collapsed": true
   },
   "outputs": [],
   "source": [
    "import pandas as pd"
   ]
  },
  {
   "cell_type": "markdown",
   "metadata": {},
   "source": [
    "Since Pandas understands html content, we are going to use the builder function *read_html()* which returns a Pandas *DataFrame*. The DataFrame is Pandas' most popular and powerful data structure, and we will revisit this class throughout this course."
   ]
  },
  {
   "cell_type": "code",
   "execution_count": 6,
   "metadata": {
    "collapsed": false
   },
   "outputs": [
    {
     "data": {
      "text/html": [
       "<div>\n",
       "<table border=\"1\" class=\"dataframe\">\n",
       "  <thead>\n",
       "    <tr style=\"text-align: right;\">\n",
       "      <th></th>\n",
       "      <th>Unnamed: 0</th>\n",
       "      <th>Unnamed: 1</th>\n",
       "      <th>Thu, 29/09</th>\n",
       "      <th>Fri, 30/09</th>\n",
       "      <th>Sat, 01/10</th>\n",
       "      <th>Sun, 02/10</th>\n",
       "      <th>Mon, 03/10</th>\n",
       "      <th>Tue, 04/10</th>\n",
       "      <th>Wed, 05/10</th>\n",
       "    </tr>\n",
       "  </thead>\n",
       "  <tbody>\n",
       "    <tr>\n",
       "      <th>0</th>\n",
       "      <td>00 - 01</td>\n",
       "      <td>€/MWh</td>\n",
       "      <td>19.93</td>\n",
       "      <td>23.79</td>\n",
       "      <td>29.18</td>\n",
       "      <td>32.68</td>\n",
       "      <td>30.81</td>\n",
       "      <td>25.96</td>\n",
       "      <td>25.06</td>\n",
       "    </tr>\n",
       "    <tr>\n",
       "      <th>1</th>\n",
       "      <td>NaN</td>\n",
       "      <td>MWh</td>\n",
       "      <td>27661.00</td>\n",
       "      <td>30611.20</td>\n",
       "      <td>21479.90</td>\n",
       "      <td>27717.40</td>\n",
       "      <td>25759.70</td>\n",
       "      <td>27026.60</td>\n",
       "      <td>29045.60</td>\n",
       "    </tr>\n",
       "    <tr>\n",
       "      <th>2</th>\n",
       "      <td>01 - 02</td>\n",
       "      <td>€/MWh</td>\n",
       "      <td>16.10</td>\n",
       "      <td>23.32</td>\n",
       "      <td>31.06</td>\n",
       "      <td>27.04</td>\n",
       "      <td>26.11</td>\n",
       "      <td>25.28</td>\n",
       "      <td>23.67</td>\n",
       "    </tr>\n",
       "    <tr>\n",
       "      <th>3</th>\n",
       "      <td>NaN</td>\n",
       "      <td>MWh</td>\n",
       "      <td>27477.10</td>\n",
       "      <td>30416.60</td>\n",
       "      <td>22158.90</td>\n",
       "      <td>27815.30</td>\n",
       "      <td>26441.40</td>\n",
       "      <td>27752.50</td>\n",
       "      <td>27997.60</td>\n",
       "    </tr>\n",
       "    <tr>\n",
       "      <th>4</th>\n",
       "      <td>02 - 03</td>\n",
       "      <td>€/MWh</td>\n",
       "      <td>18.63</td>\n",
       "      <td>23.81</td>\n",
       "      <td>26.00</td>\n",
       "      <td>26.28</td>\n",
       "      <td>25.09</td>\n",
       "      <td>24.05</td>\n",
       "      <td>22.45</td>\n",
       "    </tr>\n",
       "  </tbody>\n",
       "</table>\n",
       "</div>"
      ],
      "text/plain": [
       "  Unnamed: 0 Unnamed: 1  Thu, 29/09  Fri, 30/09  Sat, 01/10  Sun, 02/10  \\\n",
       "0    00 - 01      ���/MWh       19.93       23.79       29.18       32.68   \n",
       "1        NaN        MWh    27661.00    30611.20    21479.90    27717.40   \n",
       "2    01 - 02      ���/MWh       16.10       23.32       31.06       27.04   \n",
       "3        NaN        MWh    27477.10    30416.60    22158.90    27815.30   \n",
       "4    02 - 03      ���/MWh       18.63       23.81       26.00       26.28   \n",
       "\n",
       "   Mon, 03/10  Tue, 04/10  Wed, 05/10  \n",
       "0       30.81       25.96       25.06  \n",
       "1    25759.70    27026.60    29045.60  \n",
       "2       26.11       25.28       23.67  \n",
       "3    26441.40    27752.50    27997.60  \n",
       "4       25.09       24.05       22.45  "
      ]
     },
     "execution_count": 6,
     "metadata": {},
     "output_type": "execute_result"
    }
   ],
   "source": [
    "df = pd.read_html(str(table[1]), header=0, encoding='utf8')[0]\n",
    "df.head()"
   ]
  },
  {
   "cell_type": "markdown",
   "metadata": {},
   "source": [
    "### Data Preparation\n",
    "As soon as our data is available as a Pandas *DataFrame*, we can begin with the next step in our data mining process  clearning, transforming, merging and reshaping the data.\n",
    "\n",
    "The table currently holds prices and volumes for each hour in rows and for each week in columns. Since we do not need the row labels for the hours and the volumns, we are going to drop these columns."
   ]
  },
  {
   "cell_type": "code",
   "execution_count": 7,
   "metadata": {
    "collapsed": false
   },
   "outputs": [
    {
     "data": {
      "text/html": [
       "<div>\n",
       "<table border=\"1\" class=\"dataframe\">\n",
       "  <thead>\n",
       "    <tr style=\"text-align: right;\">\n",
       "      <th></th>\n",
       "      <th>Thu, 29/09</th>\n",
       "      <th>Fri, 30/09</th>\n",
       "      <th>Sat, 01/10</th>\n",
       "      <th>Sun, 02/10</th>\n",
       "      <th>Mon, 03/10</th>\n",
       "      <th>Tue, 04/10</th>\n",
       "      <th>Wed, 05/10</th>\n",
       "    </tr>\n",
       "  </thead>\n",
       "  <tbody>\n",
       "    <tr>\n",
       "      <th>0</th>\n",
       "      <td>19.93</td>\n",
       "      <td>23.79</td>\n",
       "      <td>29.18</td>\n",
       "      <td>32.68</td>\n",
       "      <td>30.81</td>\n",
       "      <td>25.96</td>\n",
       "      <td>25.06</td>\n",
       "    </tr>\n",
       "    <tr>\n",
       "      <th>1</th>\n",
       "      <td>27661.00</td>\n",
       "      <td>30611.20</td>\n",
       "      <td>21479.90</td>\n",
       "      <td>27717.40</td>\n",
       "      <td>25759.70</td>\n",
       "      <td>27026.60</td>\n",
       "      <td>29045.60</td>\n",
       "    </tr>\n",
       "    <tr>\n",
       "      <th>2</th>\n",
       "      <td>16.10</td>\n",
       "      <td>23.32</td>\n",
       "      <td>31.06</td>\n",
       "      <td>27.04</td>\n",
       "      <td>26.11</td>\n",
       "      <td>25.28</td>\n",
       "      <td>23.67</td>\n",
       "    </tr>\n",
       "    <tr>\n",
       "      <th>3</th>\n",
       "      <td>27477.10</td>\n",
       "      <td>30416.60</td>\n",
       "      <td>22158.90</td>\n",
       "      <td>27815.30</td>\n",
       "      <td>26441.40</td>\n",
       "      <td>27752.50</td>\n",
       "      <td>27997.60</td>\n",
       "    </tr>\n",
       "    <tr>\n",
       "      <th>4</th>\n",
       "      <td>18.63</td>\n",
       "      <td>23.81</td>\n",
       "      <td>26.00</td>\n",
       "      <td>26.28</td>\n",
       "      <td>25.09</td>\n",
       "      <td>24.05</td>\n",
       "      <td>22.45</td>\n",
       "    </tr>\n",
       "  </tbody>\n",
       "</table>\n",
       "</div>"
      ],
      "text/plain": [
       "   Thu, 29/09  Fri, 30/09  Sat, 01/10  Sun, 02/10  Mon, 03/10  Tue, 04/10  \\\n",
       "0       19.93       23.79       29.18       32.68       30.81       25.96   \n",
       "1    27661.00    30611.20    21479.90    27717.40    25759.70    27026.60   \n",
       "2       16.10       23.32       31.06       27.04       26.11       25.28   \n",
       "3    27477.10    30416.60    22158.90    27815.30    26441.40    27752.50   \n",
       "4       18.63       23.81       26.00       26.28       25.09       24.05   \n",
       "\n",
       "   Wed, 05/10  \n",
       "0       25.06  \n",
       "1    29045.60  \n",
       "2       23.67  \n",
       "3    27997.60  \n",
       "4       22.45  "
      ]
     },
     "execution_count": 7,
     "metadata": {},
     "output_type": "execute_result"
    }
   ],
   "source": [
    "df = df.drop(['Unnamed: 0','Unnamed: 1'],axis=1)\n",
    "df.head()"
   ]
  },
  {
   "cell_type": "markdown",
   "metadata": {},
   "source": [
    "Afterwards, we must separate the prices from the volumes. This is fairly easy, since every row with an even number holds prices and every row with an odd number the volumes. All iterable objects in Python, like lists, Numpy arrays, or Pandas DataFrames understand some powerful but sytactically easy-to-use indexing statements. For example, to get all even rows, we simple need to call:"
   ]
  },
  {
   "cell_type": "code",
   "execution_count": 8,
   "metadata": {
    "collapsed": false
   },
   "outputs": [
    {
     "data": {
      "text/html": [
       "<div>\n",
       "<table border=\"1\" class=\"dataframe\">\n",
       "  <thead>\n",
       "    <tr style=\"text-align: right;\">\n",
       "      <th></th>\n",
       "      <th>Thu, 29/09</th>\n",
       "      <th>Fri, 30/09</th>\n",
       "      <th>Sat, 01/10</th>\n",
       "      <th>Sun, 02/10</th>\n",
       "      <th>Mon, 03/10</th>\n",
       "      <th>Tue, 04/10</th>\n",
       "      <th>Wed, 05/10</th>\n",
       "    </tr>\n",
       "  </thead>\n",
       "  <tbody>\n",
       "    <tr>\n",
       "      <th>0</th>\n",
       "      <td>19.93</td>\n",
       "      <td>23.79</td>\n",
       "      <td>29.18</td>\n",
       "      <td>32.68</td>\n",
       "      <td>30.81</td>\n",
       "      <td>25.96</td>\n",
       "      <td>25.06</td>\n",
       "    </tr>\n",
       "    <tr>\n",
       "      <th>2</th>\n",
       "      <td>16.10</td>\n",
       "      <td>23.32</td>\n",
       "      <td>31.06</td>\n",
       "      <td>27.04</td>\n",
       "      <td>26.11</td>\n",
       "      <td>25.28</td>\n",
       "      <td>23.67</td>\n",
       "    </tr>\n",
       "    <tr>\n",
       "      <th>4</th>\n",
       "      <td>18.63</td>\n",
       "      <td>23.81</td>\n",
       "      <td>26.00</td>\n",
       "      <td>26.28</td>\n",
       "      <td>25.09</td>\n",
       "      <td>24.05</td>\n",
       "      <td>22.45</td>\n",
       "    </tr>\n",
       "    <tr>\n",
       "      <th>6</th>\n",
       "      <td>14.57</td>\n",
       "      <td>23.09</td>\n",
       "      <td>29.02</td>\n",
       "      <td>25.13</td>\n",
       "      <td>24.54</td>\n",
       "      <td>22.03</td>\n",
       "      <td>22.23</td>\n",
       "    </tr>\n",
       "    <tr>\n",
       "      <th>8</th>\n",
       "      <td>14.15</td>\n",
       "      <td>24.02</td>\n",
       "      <td>25.94</td>\n",
       "      <td>24.90</td>\n",
       "      <td>24.59</td>\n",
       "      <td>23.25</td>\n",
       "      <td>22.71</td>\n",
       "    </tr>\n",
       "  </tbody>\n",
       "</table>\n",
       "</div>"
      ],
      "text/plain": [
       "   Thu, 29/09  Fri, 30/09  Sat, 01/10  Sun, 02/10  Mon, 03/10  Tue, 04/10  \\\n",
       "0       19.93       23.79       29.18       32.68       30.81       25.96   \n",
       "2       16.10       23.32       31.06       27.04       26.11       25.28   \n",
       "4       18.63       23.81       26.00       26.28       25.09       24.05   \n",
       "6       14.57       23.09       29.02       25.13       24.54       22.03   \n",
       "8       14.15       24.02       25.94       24.90       24.59       23.25   \n",
       "\n",
       "   Wed, 05/10  \n",
       "0       25.06  \n",
       "2       23.67  \n",
       "4       22.45  \n",
       "6       22.23  \n",
       "8       22.71  "
      ]
     },
     "execution_count": 8,
     "metadata": {},
     "output_type": "execute_result"
    }
   ],
   "source": [
    "df[::2].head()"
   ]
  },
  {
   "cell_type": "markdown",
   "metadata": {},
   "source": [
    "The iterator loops over all rows, but increments the index in increments of two, so that we only get to see rows with an even number. The function *head()* finally shows us the first five rows of the resulting copy of the DataFrame.\n",
    "\n",
    "The next step is to flatten the resulting table, so that all columns of the table are stacked on top of each other, and all 7 x 24 prices are returned as a single long array. Before we can stack the columns, we must transpose the table, since the function *stack()* works row-wise and not column-wise. The function *tranpose()* simply flips the indices internally, which corresponds to the mathematical concept of transposing a matrix."
   ]
  },
  {
   "cell_type": "code",
   "execution_count": 9,
   "metadata": {
    "collapsed": false
   },
   "outputs": [],
   "source": [
    "prices = df[::2].transpose().stack()"
   ]
  },
  {
   "cell_type": "markdown",
   "metadata": {},
   "source": [
    "Although the dates are provided in the columns, they are not in a good format to be parsed as dates. Since we know the last day of the week, however, we can create our own time index, by using the Pandas builder function *date_range()*. We then replace the existing index with the new datetime index."
   ]
  },
  {
   "cell_type": "code",
   "execution_count": 10,
   "metadata": {
    "collapsed": true
   },
   "outputs": [],
   "source": [
    "index = pd.date_range(end='2016-10-05-23:00', periods=7*24, freq='h')\n",
    "prices = df[::2].transpose().stack()\n",
    "prices.index = index"
   ]
  },
  {
   "cell_type": "markdown",
   "metadata": {},
   "source": [
    "Note that the last element of the date time index is defined to as 23:00. If we do not specify the last hour, the index would have started at 1:00 and not at 0:00. Since prices are valid for a whole hour, in this case going from 0:00 to 1:00, it is really a matter of definition, whether we set the axis tick at 0:00 or 1:00, but it is more natural to pick the beginning of an hour as the tick.\n",
    "\n",
    "To finally plot the result we can now use the function *plot()* which will return a line chart with the time series of hourly prices. We can see that, by providing a datetime index, the x-axis automatically gets properly formated with the correct dates."
   ]
  },
  {
   "cell_type": "code",
   "execution_count": 11,
   "metadata": {
    "collapsed": false
   },
   "outputs": [
    {
     "data": {
      "text/plain": [
       "<matplotlib.axes._subplots.AxesSubplot at 0x7f63119325d0>"
      ]
     },
     "execution_count": 11,
     "metadata": {},
     "output_type": "execute_result"
    },
    {
     "data": {
      "image/png": "[encoded data removed]",
      "text/plain": [
       "<matplotlib.figure.Figure at 0x7f631193ee50>"
      ]
     },
     "metadata": {},
     "output_type": "display_data"
    }
   ],
   "source": [
    "prices.plot()"
   ]
  },
  {
   "cell_type": "markdown",
   "metadata": {},
   "source": [
    "Now we can do the same with the volumes. This time we need all odd rows, so the index has to start at 1. The datetime index for volumes and prices is the same, so that we can replace the volumes index with our previously created datetime index."
   ]
  },
  {
   "cell_type": "code",
   "execution_count": 12,
   "metadata": {
    "collapsed": false
   },
   "outputs": [
    {
     "data": {
      "text/plain": [
       "<matplotlib.axes._subplots.AxesSubplot at 0x7f63118f7910>"
      ]
     },
     "execution_count": 12,
     "metadata": {},
     "output_type": "execute_result"
    },
    {
     "data": {
      "image/png": "[encoded data removed]",
      "text/plain": [
       "<matplotlib.figure.Figure at 0x7f63118cfe10>"
      ]
     },
     "metadata": {},
     "output_type": "display_data"
    }
   ],
   "source": [
    "volumes = df[1::2].transpose().stack()\n",
    "volumes.index = index\n",
    "volumes.plot()"
   ]
  },
  {
   "cell_type": "markdown",
   "metadata": {},
   "source": [
    "The above data is not stored as a DataFrame but as a *Series* which, in contrast to DataFrame, is one-dimensional. Since Series cannot be extended, we must first create a new empty DataFrame with our datetime index as its index. Then we append prices and volumes to the newsly created DataFrame and call *head()* to look at the first firve rows."
   ]
  },
  {
   "cell_type": "code",
   "execution_count": 13,
   "metadata": {
    "collapsed": false
   },
   "outputs": [
    {
     "data": {
      "text/html": [
       "<div>\n",
       "<table border=\"1\" class=\"dataframe\">\n",
       "  <thead>\n",
       "    <tr style=\"text-align: right;\">\n",
       "      <th></th>\n",
       "      <th>prices</th>\n",
       "      <th>volumes</th>\n",
       "    </tr>\n",
       "  </thead>\n",
       "  <tbody>\n",
       "    <tr>\n",
       "      <th>2016-09-29 00:00:00</th>\n",
       "      <td>19.93</td>\n",
       "      <td>27661.0</td>\n",
       "    </tr>\n",
       "    <tr>\n",
       "      <th>2016-09-29 01:00:00</th>\n",
       "      <td>16.10</td>\n",
       "      <td>27477.1</td>\n",
       "    </tr>\n",
       "    <tr>\n",
       "      <th>2016-09-29 02:00:00</th>\n",
       "      <td>18.63</td>\n",
       "      <td>29033.6</td>\n",
       "    </tr>\n",
       "    <tr>\n",
       "      <th>2016-09-29 03:00:00</th>\n",
       "      <td>14.57</td>\n",
       "      <td>28702.6</td>\n",
       "    </tr>\n",
       "    <tr>\n",
       "      <th>2016-09-29 04:00:00</th>\n",
       "      <td>14.15</td>\n",
       "      <td>28080.6</td>\n",
       "    </tr>\n",
       "  </tbody>\n",
       "</table>\n",
       "</div>"
      ],
      "text/plain": [
       "                     prices  volumes\n",
       "2016-09-29 00:00:00   19.93  27661.0\n",
       "2016-09-29 01:00:00   16.10  27477.1\n",
       "2016-09-29 02:00:00   18.63  29033.6\n",
       "2016-09-29 03:00:00   14.57  28702.6\n",
       "2016-09-29 04:00:00   14.15  28080.6"
      ]
     },
     "execution_count": 13,
     "metadata": {},
     "output_type": "execute_result"
    }
   ],
   "source": [
    "df = pd.DataFrame(columns=['prices'])\n",
    "df['prices'] = prices\n",
    "df['volumes'] = volumes\n",
    "df.head()"
   ]
  },
  {
   "cell_type": "markdown",
   "metadata": {},
   "source": [
    "Now that our data is in the right format and shape, we can begin with our exploratory analyses."
   ]
  },
  {
   "cell_type": "markdown",
   "metadata": {},
   "source": [
    "## Exercises\n",
    "1. Manually collect data from the entire month of September. Use pd.concat() to merge all dataframes together into a single one. The easiest approach is to create a list at the very top to which you append the new dataframes and then insert this list into concat() function. Optional: Use a loop to automatically loop over the past couple of weeks.\n",
    "2. What is the peak price (9:00 to 20:00) for each day? What is the base price (daily mean)? Plot both prices in a single plot.\n",
    "3. Is there a relationship between price and volume? What is a good way to measure this relationship? What would be a good way to visualize it?\n",
    "4. Plot the distribution of hourly prices in one graph.\n",
    "5. Plot the time series of weekly averages"
   ]
  },
  {
   "cell_type": "markdown",
   "metadata": {},
   "source": [
    "### 1) Price-volume relationship (example)\n",
    "A commonly used way to visualize the relationship of two variables is the scatter plot. Here prices are the x-ccordinates and volumes the y-coordinates."
   ]
  },
  {
   "cell_type": "code",
   "execution_count": 3,
   "metadata": {
    "collapsed": false
   },
   "outputs": [
    {
     "ename": "NameError",
     "evalue": "name 'df' is not defined",
     "output_type": "error",
     "traceback": [
      "\u001b[1;31m---------------------------------------------------------------------------\u001b[0m",
      "\u001b[1;31mNameError\u001b[0m                                 Traceback (most recent call last)",
      "\u001b[1;32m<ipython-input-3-062dca2bba4f>\u001b[0m in \u001b[0;36m<module>\u001b[1;34m()\u001b[0m\n\u001b[1;32m----> 1\u001b[1;33m \u001b[0mdf\u001b[0m\u001b[1;33m.\u001b[0m\u001b[0mplot\u001b[0m\u001b[1;33m(\u001b[0m\u001b[0mkind\u001b[0m\u001b[1;33m=\u001b[0m\u001b[1;34m'scatter'\u001b[0m\u001b[1;33m,\u001b[0m \u001b[0mx\u001b[0m\u001b[1;33m=\u001b[0m\u001b[1;34m'prices'\u001b[0m\u001b[1;33m,\u001b[0m \u001b[0my\u001b[0m\u001b[1;33m=\u001b[0m\u001b[1;34m'volumes'\u001b[0m\u001b[1;33m)\u001b[0m\u001b[1;33m\u001b[0m\u001b[0m\n\u001b[0m",
      "\u001b[1;31mNameError\u001b[0m: name 'df' is not defined"
     ]
    }
   ],
   "source": [
    "df.plot(kind='scatter', x='prices', y='volumes')"
   ]
  }
 ],
 "metadata": {
  "celltoolbar": "Edit Metadata",
  "kernelspec": {
   "display_name": "Python 2",
   "language": "python",
   "name": "python2"
  },
  "language_info": {
   "codemirror_mode": {
    "name": "ipython",
    "version": 2
   },
   "file_extension": ".py",
   "mimetype": "text/x-python",
   "name": "python",
   "nbconvert_exporter": "python",
   "pygments_lexer": "ipython2",
   "version": "2.7.9"
  }
 },
 "nbformat": 4,
 "nbformat_minor": 0
}
