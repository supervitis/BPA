{
 "cells": [
  {
   "cell_type": "markdown",
   "metadata": {},
   "source": [
    "<h1>Session 2 (Exercise) - Advertising Sales Data</h1>"
   ]
  },
  {
   "cell_type": "markdown",
   "metadata": {},
   "source": [
    "---\n",
    "*1. Implement AdaGrad and use it to fit the first advertising sales model. What do you observe when comparing it to stochastic gradient descent or the analytical solution from Statsmodels?*"
   ]
  },
  {
   "cell_type": "code",
   "execution_count": 1,
   "metadata": {
    "collapsed": true
   },
   "outputs": [],
   "source": [
    "import pandas as pd\n",
    "import math \n",
    "import statsmodels.api as sm\n",
    "import seaborn as sb\n",
    "np.set_printoptions(precision=4)"
   ]
  },
  {
   "cell_type": "code",
   "execution_count": 2,
   "metadata": {
    "collapsed": false
   },
   "outputs": [
    {
     "data": {
      "text/html": [
       "<div>\n",
       "<table border=\"1\" class=\"dataframe\">\n",
       "  <thead>\n",
       "    <tr style=\"text-align: right;\">\n",
       "      <th></th>\n",
       "      <th>TV</th>\n",
       "      <th>Radio</th>\n",
       "      <th>Newspaper</th>\n",
       "      <th>Sales</th>\n",
       "    </tr>\n",
       "  </thead>\n",
       "  <tbody>\n",
       "    <tr>\n",
       "      <th>1</th>\n",
       "      <td>230.10</td>\n",
       "      <td>37.80</td>\n",
       "      <td>69.20</td>\n",
       "      <td>22.10</td>\n",
       "    </tr>\n",
       "    <tr>\n",
       "      <th>2</th>\n",
       "      <td>44.50</td>\n",
       "      <td>39.30</td>\n",
       "      <td>45.10</td>\n",
       "      <td>10.40</td>\n",
       "    </tr>\n",
       "    <tr>\n",
       "      <th>3</th>\n",
       "      <td>17.20</td>\n",
       "      <td>45.90</td>\n",
       "      <td>69.30</td>\n",
       "      <td>9.30</td>\n",
       "    </tr>\n",
       "    <tr>\n",
       "      <th>4</th>\n",
       "      <td>151.50</td>\n",
       "      <td>41.30</td>\n",
       "      <td>58.50</td>\n",
       "      <td>18.50</td>\n",
       "    </tr>\n",
       "    <tr>\n",
       "      <th>5</th>\n",
       "      <td>180.80</td>\n",
       "      <td>10.80</td>\n",
       "      <td>58.40</td>\n",
       "      <td>12.90</td>\n",
       "    </tr>\n",
       "  </tbody>\n",
       "</table>\n",
       "</div>"
      ],
      "text/plain": [
       "      TV  Radio  Newspaper  Sales\n",
       "1 230.10  37.80      69.20  22.10\n",
       "2  44.50  39.30      45.10  10.40\n",
       "3  17.20  45.90      69.30   9.30\n",
       "4 151.50  41.30      58.50  18.50\n",
       "5 180.80  10.80      58.40  12.90"
      ]
     },
     "execution_count": 2,
     "metadata": {},
     "output_type": "execute_result"
    }
   ],
   "source": [
    "df = pd.read_csv('http://www-bcf.usc.edu/~gareth/ISL/Advertising.csv', index_col=0)\n",
    "df.head()"
   ]
  },
  {
   "cell_type": "markdown",
   "metadata": {},
   "source": [
    "Data preparation: \n",
    "The column 'Sales' from our DataFrame define the response vector $y$ and the columns 'TV' and 'Radio' define the predictor matrix $X$. For our algorithm, we additionally need a column of ones as the column of the matrix $X$ that is associated with $b_0$."
   ]
  },
  {
   "cell_type": "code",
   "execution_count": 3,
   "metadata": {
    "collapsed": false
   },
   "outputs": [
    {
     "data": {
      "text/html": [
       "<div>\n",
       "<table border=\"1\" class=\"dataframe\">\n",
       "  <thead>\n",
       "    <tr style=\"text-align: right;\">\n",
       "      <th></th>\n",
       "      <th>TV</th>\n",
       "      <th>Radio</th>\n",
       "      <th>Ones</th>\n",
       "    </tr>\n",
       "  </thead>\n",
       "  <tbody>\n",
       "    <tr>\n",
       "      <th>1</th>\n",
       "      <td>230.10</td>\n",
       "      <td>37.80</td>\n",
       "      <td>1.00</td>\n",
       "    </tr>\n",
       "    <tr>\n",
       "      <th>2</th>\n",
       "      <td>44.50</td>\n",
       "      <td>39.30</td>\n",
       "      <td>1.00</td>\n",
       "    </tr>\n",
       "    <tr>\n",
       "      <th>3</th>\n",
       "      <td>17.20</td>\n",
       "      <td>45.90</td>\n",
       "      <td>1.00</td>\n",
       "    </tr>\n",
       "    <tr>\n",
       "      <th>4</th>\n",
       "      <td>151.50</td>\n",
       "      <td>41.30</td>\n",
       "      <td>1.00</td>\n",
       "    </tr>\n",
       "    <tr>\n",
       "      <th>5</th>\n",
       "      <td>180.80</td>\n",
       "      <td>10.80</td>\n",
       "      <td>1.00</td>\n",
       "    </tr>\n",
       "  </tbody>\n",
       "</table>\n",
       "</div>"
      ],
      "text/plain": [
       "      TV  Radio  Ones\n",
       "1 230.10  37.80  1.00\n",
       "2  44.50  39.30  1.00\n",
       "3  17.20  45.90  1.00\n",
       "4 151.50  41.30  1.00\n",
       "5 180.80  10.80  1.00"
      ]
     },
     "execution_count": 3,
     "metadata": {},
     "output_type": "execute_result"
    }
   ],
   "source": [
    "y = df.Sales\n",
    "X = df[['TV','Radio']].copy()\n",
    "X['Ones'] = np.ones(len(df))\n",
    "X.head()"
   ]
  },
  {
   "cell_type": "code",
   "execution_count": 4,
   "metadata": {
    "collapsed": false
   },
   "outputs": [],
   "source": [
    "y = y.values\n",
    "X = X.values"
   ]
  },
  {
   "cell_type": "markdown",
   "metadata": {},
   "source": [
    "Stochastic Gradient Decent\n"
   ]
  },
  {
   "cell_type": "code",
   "execution_count": 43,
   "metadata": {
    "collapsed": false
   },
   "outputs": [],
   "source": [
    "import random\n",
    "b = np.zeros(3)\n",
    "alpha = [0.00001,0.0001,0.05]\n",
    "n = len(df)\n",
    "for j in range(100):\n",
    "    i = random.randint(0,n-1)\n",
    "    grad = (y[i]-b.dot(X[i]))*-X[i]\n",
    "    b = b - alpha*grad  "
   ]
  },
  {
   "cell_type": "code",
   "execution_count": 44,
   "metadata": {
    "collapsed": false
   },
   "outputs": [
    {
     "data": {
      "text/plain": [
       "(2.9608306783415452, 0.89068674998664021, array([ 0.0439,  0.1984,  2.5934]))"
      ]
     },
     "execution_count": 44,
     "metadata": {},
     "output_type": "execute_result"
    }
   ],
   "source": [
    "rss =  sum((y[i]-b.dot(X[i]))**2 for i in range(n))\n",
    "tss = sum((y[i]-y.mean())**2 for i in range(n))\n",
    "r_squared = 1.-rss/tss\n",
    "mse = rss/n\n",
    "mse, r_squared, b"
   ]
  },
  {
   "cell_type": "markdown",
   "metadata": {},
   "source": [
    "Adagrad implementation\n"
   ]
  },
  {
   "cell_type": "code",
   "execution_count": 7,
   "metadata": {
    "collapsed": false
   },
   "outputs": [],
   "source": [
    "b = np.zeros(3)\n",
    "G = 0\n",
    "n = len(df)\n",
    "for j in range(10000):\n",
    "    i = random.randint(0,n-1)\n",
    "    grad = (y[i]-b.dot(X[i]))*-X[i]\n",
    "    G = G + grad**2\n",
    "    b = b - (grad/(G**0.5))"
   ]
  },
  {
   "cell_type": "code",
   "execution_count": 8,
   "metadata": {
    "collapsed": false
   },
   "outputs": [
    {
     "data": {
      "text/plain": [
       "(3.968064525866315, 0.85349988678578126, array([ 0.0452,  0.2277,  2.9969]))"
      ]
     },
     "execution_count": 8,
     "metadata": {},
     "output_type": "execute_result"
    }
   ],
   "source": [
    "rss =  sum((y[i]-b.dot(X[i]))**2 for i in range(n))\n",
    "tss = sum((y[i]-y.mean())**2 for i in range(n))\n",
    "r_squared = 1.-rss/tss\n",
    "mse = rss/n\n",
    "mse, r_squared, b"
   ]
  },
  {
   "cell_type": "markdown",
   "metadata": {},
   "source": [
    "Observations:\n",
    "\n",
    "After repeating the AdaGrad with different number of iterations we observe that the result gets better the higher the number. However, mean squared error is pretty volatile, not depending on the number of iterations; $R^2$ fluctuates as well (way less than mean square, just decimals), and a little more than with Stochastic Gradient Descent for the same number of iterations. We could say that this is a good method for a high (10000+) number of iterations.\n"
   ]
  },
  {
   "cell_type": "markdown",
   "metadata": {},
   "source": [
    "---\n",
    "*2. Wrap stochastic gradient descent (AdaGrad) into a separate function that requires X and y as input arguments (optional: iterations, default = 10n) and returns the parameter vector b. This function should be used from now on two fit models.*"
   ]
  },
  {
   "cell_type": "code",
   "execution_count": 35,
   "metadata": {
    "collapsed": false
   },
   "outputs": [],
   "source": [
    "# Function definition is here\n",
    "def adagrad( X, y, iterations='default' ):\n",
    "    b = np.zeros(3)\n",
    "    n=len(y)\n",
    "    if iterations == 'default':\n",
    "        size = 10*len(y)\n",
    "    else: \n",
    "        size = iterations\n",
    "    G = 0\n",
    "    for j in range(size):\n",
    "        i = random.randint(0,n-1)\n",
    "        grad = (y[i]-b.dot(X[i]))*-X[i]\n",
    "        G = G + grad**2\n",
    "        b = b - (grad/(G**0.5))\n",
    "        print grad\n",
    "    #printing the r2 etc\n",
    "    rss =  sum((y[i]-b.dot(X[i]))**2 for i in range(n))\n",
    "    tss = sum((y[i]-y.mean())**2 for i in range(n))\n",
    "    r_squared = 1.-rss/tss\n",
    "    mse = rss/n\n",
    "    print mse, r_squared, b\n",
    "    return b;"
   ]
  },
  {
   "cell_type": "code",
   "execution_count": 36,
   "metadata": {
    "collapsed": false
   },
   "outputs": [
    {
     "name": "stdout",
     "output_type": "stream",
     "text": [
      "[-2277.72   -35.34   -11.4 ]\n",
      "[ 14181.2   1778.7    121. ]\n",
      "167.10933395 -5.1696416939 [ 0.0127  0.0002  0.0044]\n"
     ]
    },
    {
     "data": {
      "text/plain": [
       "array([ 0.0127,  0.0002,  0.0044])"
      ]
     },
     "execution_count": 36,
     "metadata": {},
     "output_type": "execute_result"
    }
   ],
   "source": [
    "adagrad(X, y,2)"
   ]
  },
  {
   "cell_type": "markdown",
   "metadata": {
    "collapsed": true
   },
   "source": [
    "*3. Run gradient descent prediction of Sales = b_0 + b_1*TV and plot the prediction against the original data using Matplotlib.*"
   ]
  },
  {
   "cell_type": "markdown",
   "metadata": {
    "collapsed": true
   },
   "source": [
    "Running prediction of the model with one variable"
   ]
  },
  {
   "cell_type": "code",
   "execution_count": 11,
   "metadata": {
    "collapsed": true
   },
   "outputs": [],
   "source": [
    "from sklearn.linear_model import LinearRegression"
   ]
  },
  {
   "cell_type": "code",
   "execution_count": 12,
   "metadata": {
    "collapsed": false
   },
   "outputs": [],
   "source": [
    "Xnew = df[['TV']].copy()\n",
    "y = df.Sales\n",
    "reg = LinearRegression()\n",
    "reg.fit(Xnew,y)\n",
    "reg.score(Xnew,y)\n",
    "prediction=reg.predict(Xnew)"
   ]
  },
  {
   "cell_type": "markdown",
   "metadata": {
    "collapsed": true
   },
   "source": [
    "Using our function --- The following cell might be skipped"
   ]
  },
  {
   "cell_type": "code",
   "execution_count": 26,
   "metadata": {
    "collapsed": false
   },
   "outputs": [
    {
     "name": "stdout",
     "output_type": "stream",
     "text": [
      "11.1739002435 0.587461937665 [ 0.0524  3.5103  3.5103]\n"
     ]
    }
   ],
   "source": [
    "Xnew = df[['TV']].copy()\n",
    "y = df.Sales\n",
    "y=y.values\n",
    "Xnew['Ones1'] = np.ones(len(df))\n",
    "Xnew['Ones2'] = np.ones(len(df))\n",
    "Xnew=Xnew.values\n",
    "prediction=adagrad(Xnew, y)\n",
    "prediction=Xnew*prediction\n",
    "prediction=np.sum(prediction,axis=1)"
   ]
  },
  {
   "cell_type": "markdown",
   "metadata": {
    "collapsed": true
   },
   "source": [
    "Plotting the two plots"
   ]
  },
  {
   "cell_type": "code",
   "execution_count": 27,
   "metadata": {
    "collapsed": false
   },
   "outputs": [
    {
     "data": {
      "text/html": [
       "<div>\n",
       "<table border=\"1\" class=\"dataframe\">\n",
       "  <thead>\n",
       "    <tr style=\"text-align: right;\">\n",
       "      <th></th>\n",
       "      <th>TV</th>\n",
       "      <th>Sales_Prediction</th>\n",
       "      <th>Sales</th>\n",
       "    </tr>\n",
       "  </thead>\n",
       "  <tbody>\n",
       "    <tr>\n",
       "      <th>1</th>\n",
       "      <td>230.10</td>\n",
       "      <td>19.07</td>\n",
       "      <td>22.10</td>\n",
       "    </tr>\n",
       "    <tr>\n",
       "      <th>2</th>\n",
       "      <td>44.50</td>\n",
       "      <td>9.35</td>\n",
       "      <td>10.40</td>\n",
       "    </tr>\n",
       "    <tr>\n",
       "      <th>3</th>\n",
       "      <td>17.20</td>\n",
       "      <td>7.92</td>\n",
       "      <td>9.30</td>\n",
       "    </tr>\n",
       "    <tr>\n",
       "      <th>4</th>\n",
       "      <td>151.50</td>\n",
       "      <td>14.96</td>\n",
       "      <td>18.50</td>\n",
       "    </tr>\n",
       "    <tr>\n",
       "      <th>5</th>\n",
       "      <td>180.80</td>\n",
       "      <td>16.49</td>\n",
       "      <td>12.90</td>\n",
       "    </tr>\n",
       "  </tbody>\n",
       "</table>\n",
       "</div>"
      ],
      "text/plain": [
       "      TV  Sales_Prediction  Sales\n",
       "1 230.10             19.07  22.10\n",
       "2  44.50              9.35  10.40\n",
       "3  17.20              7.92   9.30\n",
       "4 151.50             14.96  18.50\n",
       "5 180.80             16.49  12.90"
      ]
     },
     "execution_count": 27,
     "metadata": {},
     "output_type": "execute_result"
    }
   ],
   "source": [
    "Xnew = df[['TV']].copy()\n",
    "Xnew['Sales_Prediction'] = prediction\n",
    "Xnew['Sales'] = df.Sales\n",
    "Xnew.head()"
   ]
  },
  {
   "cell_type": "code",
   "execution_count": 28,
   "metadata": {
    "collapsed": false
   },
   "outputs": [
    {
     "data": {
      "image/png": "[encoded data removed]",
      "text/plain": [
       "<matplotlib.figure.Figure at 0x7fc9ef8deb10>"
      ]
     },
     "metadata": {},
     "output_type": "display_data"
    }
   ],
   "source": [
    "fix, (ax1,ax2) = plt.subplots(1,2, figsize=(12,4))\n",
    "Xnew.plot(kind='scatter', x='TV', y='Sales', ax=ax1 )\n",
    "Xnew.plot(kind='scatter', x='TV', y='Sales_Prediction', ax=ax2)\n",
    "plt.show()"
   ]
  },
  {
   "cell_type": "code",
   "execution_count": 29,
   "metadata": {
    "collapsed": false
   },
   "outputs": [
    {
     "data": {
      "image/png": "[encoded data removed]",
      "text/plain": [
       "<matplotlib.figure.Figure at 0x7fc9efc85d10>"
      ]
     },
     "metadata": {},
     "output_type": "display_data"
    }
   ],
   "source": [
    "fix, (ax1) = plt.subplots(1)\n",
    "Xnew.plot(kind='scatter', x='TV', y='Sales', ax=ax1, label='original' )\n",
    "Xnew.plot(kind='scatter', x='TV', y='Sales_Prediction', ax=ax1, label='prediction', c='r')\n",
    "plt.show()"
   ]
  },
  {
   "cell_type": "markdown",
   "metadata": {
    "collapsed": true
   },
   "source": [
    "*4. Use cross validation to select the right order of the polynomial. Automatically stop when the best R2 is found. What do you observe when comparing it to the solution using the AIC?*"
   ]
  },
  {
   "cell_type": "code",
   "execution_count": 17,
   "metadata": {
    "collapsed": false
   },
   "outputs": [
    {
     "name": "stdout",
     "output_type": "stream",
     "text": [
      "degree: 1,  aic: 1042.09132754\n",
      "degree: 2,  aic: 1040.36625335\n",
      "degree: 3,  aic: 1040.80381185\n",
      "degree: 4,  aic: 1042.27460286\n",
      "degree: 5,  aic: 1041.09265086\n",
      "degree: 6,  aic: 1044.31492761\n",
      "degree: 7,  aic: 1084.95306633\n",
      "degree: 8,  aic: 1210.6239142\n",
      "degree: 9,  aic: 1253.98282773\n",
      "degree: 10,  aic: 1290.34609384\n"
     ]
    }
   ],
   "source": [
    "Xnew = df[['TV']].copy()\n",
    "Xnew = sm.add_constant(Xnew)\n",
    "reg = sm.OLS(y,Xnew).fit()\n",
    "print \"degree: %d, \"%1,\"aic:\",reg.aic\n",
    "for degree in range(2,11):\n",
    "    Xnew['TV^%d'%degree] = Xnew.TV.pow(degree)\n",
    "    reg = sm.OLS(y,Xnew).fit()\n",
    "    print \"degree: %d, \"%degree,\"aic:\",reg.aic"
   ]
  },
  {
   "cell_type": "code",
   "execution_count": 18,
   "metadata": {
    "collapsed": false
   },
   "outputs": [
    {
     "data": {
      "text/html": [
       "<div>\n",
       "<table border=\"1\" class=\"dataframe\">\n",
       "  <thead>\n",
       "    <tr style=\"text-align: right;\">\n",
       "      <th></th>\n",
       "      <th>const</th>\n",
       "      <th>TV</th>\n",
       "      <th>TV^2</th>\n",
       "      <th>TV^3</th>\n",
       "      <th>TV^4</th>\n",
       "      <th>TV^5</th>\n",
       "      <th>TV^6</th>\n",
       "      <th>TV^7</th>\n",
       "      <th>TV^8</th>\n",
       "      <th>TV^9</th>\n",
       "      <th>TV^10</th>\n",
       "    </tr>\n",
       "  </thead>\n",
       "  <tbody>\n",
       "    <tr>\n",
       "      <th>1</th>\n",
       "      <td>1</td>\n",
       "      <td>230.10</td>\n",
       "      <td>52946.01</td>\n",
       "      <td>12182876.90</td>\n",
       "      <td>2803279974.92</td>\n",
       "      <td>645034722229.11</td>\n",
       "      <td>148422489584919.34</td>\n",
       "      <td>34152014853489940.00</td>\n",
       "      <td>7858378617788035072.00</td>\n",
       "      <td>1808212919953026711552.00</td>\n",
       "      <td>416069792881191459749888.00</td>\n",
       "    </tr>\n",
       "    <tr>\n",
       "      <th>2</th>\n",
       "      <td>1</td>\n",
       "      <td>44.50</td>\n",
       "      <td>1980.25</td>\n",
       "      <td>88121.12</td>\n",
       "      <td>3921390.06</td>\n",
       "      <td>174501857.78</td>\n",
       "      <td>7765332671.27</td>\n",
       "      <td>345557303871.32</td>\n",
       "      <td>15377300022273.75</td>\n",
       "      <td>684289850991182.00</td>\n",
       "      <td>30450898369107600.00</td>\n",
       "    </tr>\n",
       "    <tr>\n",
       "      <th>3</th>\n",
       "      <td>1</td>\n",
       "      <td>17.20</td>\n",
       "      <td>295.84</td>\n",
       "      <td>5088.45</td>\n",
       "      <td>87521.31</td>\n",
       "      <td>1505366.46</td>\n",
       "      <td>25892303.05</td>\n",
       "      <td>445347612.44</td>\n",
       "      <td>7659978933.93</td>\n",
       "      <td>131751637663.57</td>\n",
       "      <td>2266128167813.43</td>\n",
       "    </tr>\n",
       "    <tr>\n",
       "      <th>4</th>\n",
       "      <td>1</td>\n",
       "      <td>151.50</td>\n",
       "      <td>22952.25</td>\n",
       "      <td>3477265.88</td>\n",
       "      <td>526805780.06</td>\n",
       "      <td>79811075679.47</td>\n",
       "      <td>12091377965439.52</td>\n",
       "      <td>1831843761764086.50</td>\n",
       "      <td>277524329907259136.00</td>\n",
       "      <td>42044935980949757952.00</td>\n",
       "      <td>6369807801113888423936.00</td>\n",
       "    </tr>\n",
       "    <tr>\n",
       "      <th>5</th>\n",
       "      <td>1</td>\n",
       "      <td>180.80</td>\n",
       "      <td>32688.64</td>\n",
       "      <td>5910106.11</td>\n",
       "      <td>1068547185.05</td>\n",
       "      <td>193193331056.97</td>\n",
       "      <td>34929354255099.77</td>\n",
       "      <td>6315227249322039.00</td>\n",
       "      <td>1141793086677424640.00</td>\n",
       "      <td>206436190071278403584.00</td>\n",
       "      <td>37323663164887135158272.00</td>\n",
       "    </tr>\n",
       "  </tbody>\n",
       "</table>\n",
       "</div>"
      ],
      "text/plain": [
       "   const     TV     TV^2        TV^3          TV^4            TV^5  \\\n",
       "1      1 230.10 52946.01 12182876.90 2803279974.92 645034722229.11   \n",
       "2      1  44.50  1980.25    88121.12    3921390.06    174501857.78   \n",
       "3      1  17.20   295.84     5088.45      87521.31      1505366.46   \n",
       "4      1 151.50 22952.25  3477265.88  526805780.06  79811075679.47   \n",
       "5      1 180.80 32688.64  5910106.11 1068547185.05 193193331056.97   \n",
       "\n",
       "                TV^6                 TV^7                   TV^8  \\\n",
       "1 148422489584919.34 34152014853489940.00 7858378617788035072.00   \n",
       "2      7765332671.27      345557303871.32      15377300022273.75   \n",
       "3        25892303.05         445347612.44          7659978933.93   \n",
       "4  12091377965439.52  1831843761764086.50  277524329907259136.00   \n",
       "5  34929354255099.77  6315227249322039.00 1141793086677424640.00   \n",
       "\n",
       "                       TV^9                       TV^10  \n",
       "1 1808212919953026711552.00 416069792881191459749888.00  \n",
       "2        684289850991182.00        30450898369107600.00  \n",
       "3           131751637663.57            2266128167813.43  \n",
       "4   42044935980949757952.00   6369807801113888423936.00  \n",
       "5  206436190071278403584.00  37323663164887135158272.00  "
      ]
     },
     "execution_count": 18,
     "metadata": {},
     "output_type": "execute_result"
    }
   ],
   "source": [
    "Xnew.head()"
   ]
  },
  {
   "cell_type": "code",
   "execution_count": 19,
   "metadata": {
    "collapsed": false
   },
   "outputs": [
    {
     "name": "stdout",
     "output_type": "stream",
     "text": [
      "degree: 1, \n",
      "r2 = 0.584793272798\n",
      "degree: 2, \n",
      "r2 = 0.586353921345\n",
      "The optimum is  2 . degree of polynomial with r-square of 0.586353921345\n"
     ]
    }
   ],
   "source": [
    "from sklearn.linear_model import LinearRegression\n",
    "from sklearn.cross_validation import KFold\n",
    "Xnew = df[['TV']].copy()\n",
    "y = df.Sales\n",
    "reg = LinearRegression()\n",
    "reg.fit(Xnew,y)\n",
    "reg.score(Xnew,y)\n",
    "rprevious=0\n",
    "r=1\n",
    "degree=1\n",
    "while (r>rprevious):\n",
    "    reg.fit(Xnew,y)\n",
    "    \n",
    "    avg_score = 0.\n",
    "    for test,train in KFold(n, n_folds=5):\n",
    "        X_test, X_train =  Xnew.values[test], Xnew.values[train] #select data using internal numpy array\n",
    "        y_test, y_train =  y.iloc[test], y.iloc[train] #select data using Pandas' iloc function\n",
    "        reg.fit(X_train,y_train)\n",
    "        avg_score += reg.score(X_test,y_test)/5.\n",
    "        \n",
    "    if(degree==1):\n",
    "        r=avg_score\n",
    "    else:\n",
    "        rprevious=r\n",
    "        r=avg_score\n",
    "    if(r>rprevious):\n",
    "        print \"degree: %d, \"%degree\n",
    "        print \"r2 =\",r\n",
    "        degree=degree+1\n",
    "        Xnew['TV^%d'%degree] = Xnew.TV.pow(degree)\n",
    "    else:\n",
    "        print \"The optimum is \",degree-1,\". degree of polynomial with r-square of\",rprevious\n",
    "\n",
    "    "
   ]
  },
  {
   "cell_type": "markdown",
   "metadata": {},
   "source": [
    "After observing the two solutions (AIC and Cross-Validation) we came to the conclusion that in both cases the 2. degree of polynomial was the optimum."
   ]
  },
  {
   "cell_type": "code",
   "execution_count": null,
   "metadata": {
    "collapsed": true
   },
   "outputs": [],
   "source": []
  }
 ],
 "metadata": {
  "kernelspec": {
   "display_name": "Python 2",
   "language": "python",
   "name": "python2"
  },
  "language_info": {
   "codemirror_mode": {
    "name": "ipython",
    "version": 2
   },
   "file_extension": ".py",
   "mimetype": "text/x-python",
   "name": "python",
   "nbconvert_exporter": "python",
   "pygments_lexer": "ipython2",
   "version": "2.7.9"
  }
 },
 "nbformat": 4,
 "nbformat_minor": 0
}
